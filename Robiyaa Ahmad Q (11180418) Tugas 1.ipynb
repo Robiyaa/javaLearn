{
 "cells": [
  {
   "cell_type": "markdown",
   "metadata": {},
   "source": [
    "\n",
    "2.A Self-test Questions\n",
    "\n",
    "Soal 1A.\n",
    "\n",
    "Tipe data Java apakah yang paling tepat untuk digunakan untuk item - item dari data berikut ini?\n",
    "\n",
    "    nama yang diberikan kepada mahasiswa\n",
    "    jumlah maksimum orang yang diizinkan naik bus;\n",
    "    berat barang yang dibeli di supermarket;\n",
    "    nilai yang diberikan kepada siswa (misalnya ‘A’, ‘B’ atau ‘C’).\n",
    "\n"
   ]
  },
  {
   "cell_type": "markdown",
   "metadata": {},
   "source": [
    "Jawab :"
   ]
  },
  {
   "cell_type": "raw",
   "metadata": {},
   "source": [
    "String: kumpulan dari karakter yang membentuk teks, contoh Hello World!\n",
    "    \n",
    "int: angka atau bilangan bulat, contoh 29\n",
    "    \n",
    "float: bilangan desimal, contoh 2.1 & double: bilangan desimal juga, tapi lebih besar kapasistanya, contoh 2.1\n",
    "    \n",
    "char: Tipe data karakter, contoh Z"
   ]
  },
  {
   "cell_type": "markdown",
   "metadata": {},
   "source": [
    "\n",
    "Soal 2A.\n",
    "\n",
    "Lakukan kompilasi dari baris kode berikut ini dan jelaskan jika menghasilkan kesalahan kompiler (error):\n",
    "In [ ]:\n",
    "\n",
    "int m = 75.5;\n",
    "\n",
    "In [ ]:\n",
    "\n",
    "double n = 75;"
   ]
  },
  {
   "cell_type": "markdown",
   "metadata": {},
   "source": [
    "Jawab :"
   ]
  },
  {
   "cell_type": "raw",
   "metadata": {},
   "source": [
    "Angka pecahan tidak dapat di inputkan dengan tipe data tersebut, karena angka pecahan hanya dapat digunakan dalam tipe data float & double\n",
    "\n",
    "float: bilangan desimal, contoh 2.1\n",
    "double: bilangan desimal juga, tapi lebih besar kapasistanya, contoh 2.1"
   ]
  },
  {
   "cell_type": "markdown",
   "metadata": {},
   "source": [
    "\n",
    "Soal 3\n",
    "\n",
    "Manakah dari berikut ini yang akan menjadi nama yang betul untuk suatu variabel.\n",
    "\n",
    "ticket\n",
    "\n",
    "cinema ticket\n",
    "\n",
    "cinemaTicket\n",
    "\n",
    "cinema_ticket\n",
    "\n",
    "void\n",
    "\n",
    "Ticket\n",
    "\n",
    "switch"
   ]
  },
  {
   "cell_type": "markdown",
   "metadata": {},
   "source": [
    "Jawab :"
   ]
  },
  {
   "cell_type": "raw",
   "metadata": {},
   "source": [
    "ticket\n",
    "\n",
    "cinemaTicket\n",
    "\n",
    "cinema_ticket\n",
    "\n",
    "Ticket"
   ]
  },
  {
   "cell_type": "markdown",
   "metadata": {},
   "source": [
    "\n",
    "Soal 4A.\n",
    "\n",
    "Identifikasi dan perbaikilah kesalahan dalam program di bawah ini, yang menanyakan usia pengguna dan kemudian mencoba mencari tahu tahun di mana pengguna dilahirkan.\n"
   ]
  },
  {
   "cell_type": "code",
   "execution_count": 8,
   "metadata": {},
   "outputs": [
    {
     "name": "stdout",
     "output_type": "stream",
     "text": [
      "Anda Lahir Tahun 2000\n"
     ]
    },
    {
     "data": {
      "text/plain": [
       "null"
      ]
     },
     "execution_count": 8,
     "metadata": {},
     "output_type": "execute_result"
    }
   ],
   "source": [
    "int YEAR; \n",
    "int age, bornIn;\n",
    "\n",
    "YEAR = 2020;\n",
    "age = 20; \n",
    "\n",
    "bornIn = YEAR-age;\n",
    "\n",
    "System.out.println(\"Anda Lahir Tahun \" + bornIn);"
   ]
  },
  {
   "cell_type": "markdown",
   "metadata": {},
   "source": [
    "\n",
    "Soal 5A.\n",
    "\n",
    "Berapa nilai akhir z dalam program berikut:"
   ]
  },
  {
   "cell_type": "code",
   "execution_count": 13,
   "metadata": {},
   "outputs": [
    {
     "name": "stdout",
     "output_type": "stream",
     "text": [
      "Nilai z =130\n"
     ]
    },
    {
     "data": {
      "text/plain": [
       "null"
      ]
     },
     "execution_count": 13,
     "metadata": {},
     "output_type": "execute_result"
    }
   ],
   "source": [
    "int v, x, y, z;\n",
    "v = 6;\n",
    "x = 5; \n",
    "y = x + 2 + v; \n",
    "x = 10; \n",
    "z = y * x;\n",
    "\n",
    "System.out.println(\"Nilai z =\"+z);"
   ]
  },
  {
   "cell_type": "markdown",
   "metadata": {},
   "source": [
    "\n",
    "Soal 6A.\n",
    "\n",
    "Apa yang akan menjadi keluaran akhir dari program di bawah ini jika num1 diberikan nila 10\n",
    "\n",
    "int num1, num2; \n",
    "\n",
    "num1 = 4;\n",
    "\n",
    "num2 = 6; \n",
    "\n",
    "num1 = num1 + 2; \n",
    "num2 = num1 / num2;\n",
    "\n"
   ]
  },
  {
   "cell_type": "code",
   "execution_count": 14,
   "metadata": {},
   "outputs": [
    {
     "data": {
      "text/plain": [
       "null"
      ]
     },
     "execution_count": 14,
     "metadata": {},
     "output_type": "execute_result"
    }
   ],
   "source": [
    "int num1, num2; \n",
    "\n",
    "num1 = 4;\n",
    "\n",
    "num2 = 6; \n",
    "\n",
    "num1 = num1 + 2; \n",
    "num2 = num1 / num2;\n"
   ]
  },
  {
   "cell_type": "markdown",
   "metadata": {},
   "source": [
    "Jawab : null"
   ]
  },
  {
   "cell_type": "markdown",
   "metadata": {},
   "source": [
    "\n",
    "Soal 7A.\n",
    "\n",
    "Buatlah pseudocode untuk merancang program yang meminta pengguna untuk memasukkan nilai panjang dan tinggi persegi panjang dan kemudian menampilkan luas, keliling dan perimeter persegi panjang tersebut."
   ]
  },
  {
   "cell_type": "code",
   "execution_count": null,
   "metadata": {},
   "outputs": [],
   "source": [
    "BEGIN\n",
    "    INPUT PANJANG\n",
    "    INPUT LEBAR\n",
    "    LUAS = P*L\n",
    "    KEL = 2*(P+L)\n",
    "    CETAK LUAS\n",
    "    CETAK KEL\n",
    "END"
   ]
  },
  {
   "cell_type": "markdown",
   "metadata": {},
   "source": [
    "Soal 8A.\n",
    "\n",
    "Program di bawah ini ditulis dengan tujuan untuk menukar nilai dari dua variabel. Walaupun tidak memberikan hasil yang diinginkan:\n",
    "In [2]:\n",
    "\n",
    "//Program Soal 8 :\n",
    "// declare variables \n",
    "int x, y; \n",
    "// intialize values\n",
    "x = [masukan nilai x]; \n",
    "x = [masukan nilai y];\n",
    "System.out.print(\"value for x \"+x); \n",
    "System.out.print(\"value for y \"+y); \n",
    "// code attempting to swap two variables  \n",
    "y = x; \n",
    "//display results \n",
    "System.out.println(\"x = \" + x); \n",
    "System.out.println(\"y = \" + y);\n",
    "\n"
   ]
  },
  {
   "cell_type": "code",
   "execution_count": 21,
   "metadata": {},
   "outputs": [
    {
     "name": "stdout",
     "output_type": "stream",
     "text": [
      "value for x 10\n",
      "value for y 2\n",
      "x = 10\n",
      "y = 10\n"
     ]
    },
    {
     "data": {
      "text/plain": [
       "null"
      ]
     },
     "execution_count": 21,
     "metadata": {},
     "output_type": "execute_result"
    }
   ],
   "source": [
    "int x, y;\n",
    "\n",
    "    x = 10; \n",
    "    y = 2;\n",
    "        System.out.print(\"value for x \" +x); \n",
    "        System.out.print(\"\\nvalue for y \" +y); \n",
    "\n",
    "    y = x; \n",
    " \n",
    "        System.out.println(\"\\nx = \" +x); \n",
    "        System.out.println(\"y = \" +y);\n"
   ]
  },
  {
   "cell_type": "markdown",
   "metadata": {},
   "source": [
    "Berikan penjelasan dari Program Soal 8 jawab : (a) Dapatkah Anda melihat mengapa program tidak melakukan seperti yang diharapkan?\n",
    "\n",
    "(b) Apa yang akan menjadi hasil aktual dari program tersebut?\n",
    "\n",
    "(c) Modifikasilah program di atas sehingga nilai-nilai dari kedua variabel berhasil ditukar?\n"
   ]
  },
  {
   "cell_type": "raw",
   "metadata": {},
   "source": [
    "Jawab : (a) memiliki satu variabel\n",
    "        (b) variabel tidak dapat ditukar"
   ]
  },
  {
   "cell_type": "markdown",
   "metadata": {},
   "source": [
    "Jawab : (c)"
   ]
  },
  {
   "cell_type": "code",
   "execution_count": 22,
   "metadata": {},
   "outputs": [
    {
     "name": "stdout",
     "output_type": "stream",
     "text": [
      "value for x 10\n",
      "value for y 2\n",
      "x = 2\n",
      "y = 10\n"
     ]
    },
    {
     "data": {
      "text/plain": [
       "null"
      ]
     },
     "execution_count": 22,
     "metadata": {},
     "output_type": "execute_result"
    }
   ],
   "source": [
    "int x, y;\n",
    "\n",
    "    x = 10; \n",
    "    y = 2;\n",
    "        System.out.print(\"value for x \" +x); \n",
    "        System.out.print(\"\\nvalue for y \" +y); \n",
    "\n",
    "    x = x ^ y;\n",
    "    y = x ^ y;\n",
    "    x = x ^ y;\n",
    " \n",
    "        System.out.println(\"\\nx = \" +x); \n",
    "        System.out.println(\"y = \" +y);\n"
   ]
  },
  {
   "cell_type": "markdown",
   "metadata": {},
   "source": [
    "2.B Programming Exercises\n",
    "SOAL 1B.\n",
    "\n",
    "Implementasikan dan analisa program dibawah ini :\n",
    "In [ ]:\n",
    "\n",
    "/ Program findcost3\n",
    "/* a program to input the initial price of a product and then calculate and display its cost after tax has been added */ \n",
    "\n",
    "double price, tax; \n",
    "System.out.println(\"*** Product Price Check ***\"); \n",
    "price = [masukan nilai price]; // input price\n",
    "tax = [masukan nilai tax]; // input tax\n",
    "System.out.print(\"initial price: \"+price); \n",
    "System.out.print(\"initial tax: \"+tax);\n",
    "price = price * (1 + tax/100); // perform the calculation System.out.println(\"Cost after tax = \" + price);"
   ]
  },
  {
   "cell_type": "code",
   "execution_count": 23,
   "metadata": {},
   "outputs": [
    {
     "name": "stdout",
     "output_type": "stream",
     "text": [
      "*** Product Price Check ***\n",
      "initial price: 1000.0\n",
      "initial tax: 2.01020.0"
     ]
    },
    {
     "data": {
      "text/plain": [
       "null"
      ]
     },
     "execution_count": 23,
     "metadata": {},
     "output_type": "execute_result"
    }
   ],
   "source": [
    "double price, tax;\n",
    "\n",
    "    System.out.println(\"*** Product Price Check ***\"); \n",
    "        price = 1000;\n",
    "        tax = 2;\n",
    "    System.out.print(\"initial price: \"+price); \n",
    "    System.out.print(\"\\ninitial tax: \"+tax);\n",
    "        price = price * (1 + tax/100);\n",
    "    System.out.print(price);"
   ]
  },
  {
   "cell_type": "markdown",
   "metadata": {},
   "source": [
    "SOAL 2B.\n",
    "\n",
    "Implementasikan program dari soal-soal 2.A Self-test Questions nomor 4, 5, 6 dan 8 di atas untuk memverifikasi jawaban Anda terhadap pertanyaan-pertanyaan tersebut."
   ]
  },
  {
   "cell_type": "raw",
   "metadata": {},
   "source": [
    "Jawab : nomor 4"
   ]
  },
  {
   "cell_type": "code",
   "execution_count": 24,
   "metadata": {},
   "outputs": [
    {
     "name": "stdout",
     "output_type": "stream",
     "text": [
      "Anda Lahir Tahun 2000\n"
     ]
    },
    {
     "data": {
      "text/plain": [
       "null"
      ]
     },
     "execution_count": 24,
     "metadata": {},
     "output_type": "execute_result"
    }
   ],
   "source": [
    "int YEAR; \n",
    "int age, bornIn;\n",
    "\n",
    "YEAR = 2020;\n",
    "age = 20; \n",
    "\n",
    "bornIn = YEAR-age;\n",
    "\n",
    "System.out.println(\"Anda Lahir Tahun \" + bornIn);"
   ]
  },
  {
   "cell_type": "raw",
   "metadata": {},
   "source": [
    "Jawaban : nomor 5"
   ]
  },
  {
   "cell_type": "code",
   "execution_count": 25,
   "metadata": {},
   "outputs": [
    {
     "name": "stdout",
     "output_type": "stream",
     "text": [
      "Nilai z =130\n"
     ]
    },
    {
     "data": {
      "text/plain": [
       "null"
      ]
     },
     "execution_count": 25,
     "metadata": {},
     "output_type": "execute_result"
    }
   ],
   "source": [
    "int v, x, y, z;\n",
    "v = 6;\n",
    "x = 5; \n",
    "y = x + 2 + v; \n",
    "x = 10; \n",
    "z = y * x;\n",
    "\n",
    "System.out.println(\"Nilai z =\"+z);"
   ]
  },
  {
   "cell_type": "raw",
   "metadata": {},
   "source": [
    "Jawaban : nomor 6"
   ]
  },
  {
   "cell_type": "code",
   "execution_count": 27,
   "metadata": {},
   "outputs": [
    {
     "data": {
      "text/plain": [
       "null"
      ]
     },
     "execution_count": 27,
     "metadata": {},
     "output_type": "execute_result"
    }
   ],
   "source": [
    "int num1, num2; \n",
    "\n",
    "num1 = 4;\n",
    "\n",
    "num2 = 6; \n",
    "\n",
    "num1 = num1 + 2; \n",
    "num2 = num1 / num2;"
   ]
  },
  {
   "cell_type": "raw",
   "metadata": {},
   "source": [
    "Jawab : null"
   ]
  },
  {
   "cell_type": "raw",
   "metadata": {},
   "source": [
    "Jawab : nomor 8"
   ]
  },
  {
   "cell_type": "code",
   "execution_count": 28,
   "metadata": {},
   "outputs": [
    {
     "name": "stdout",
     "output_type": "stream",
     "text": [
      "value for x 10\n",
      "value for y 2\n",
      "x = 2\n",
      "y = 10\n"
     ]
    },
    {
     "data": {
      "text/plain": [
       "null"
      ]
     },
     "execution_count": 28,
     "metadata": {},
     "output_type": "execute_result"
    }
   ],
   "source": [
    "int x, y;\n",
    "\n",
    "    x = 10; \n",
    "    y = 2;\n",
    "        System.out.print(\"value for x \" +x); \n",
    "        System.out.print(\"\\nvalue for y \" +y); \n",
    "\n",
    "    x = x ^ y;\n",
    "    y = x ^ y;\n",
    "    x = x ^ y;\n",
    " \n",
    "        System.out.println(\"\\nx = \" +x); \n",
    "        System.out.println(\"y = \" +y);\n"
   ]
  },
  {
   "cell_type": "markdown",
   "metadata": {},
   "source": [
    "SOAL 3B.\n",
    "    \n",
    "Implementasikan program persegi panjang yang Anda rancang dalam 2.A Self-test Questions nomor 7"
   ]
  },
  {
   "cell_type": "code",
   "execution_count": 33,
   "metadata": {},
   "outputs": [
    {
     "name": "stdout",
     "output_type": "stream",
     "text": [
      "Panjang : 10\n",
      "Lebar : 2\n",
      "Luas Persegi panjang 20\n",
      "Keliling Persegi panjang 24\n"
     ]
    },
    {
     "data": {
      "text/plain": [
       "null"
      ]
     },
     "execution_count": 33,
     "metadata": {},
     "output_type": "execute_result"
    }
   ],
   "source": [
    "import java.util.Scanner;\n",
    "    Scanner input = new Scanner (System.in);\n",
    "        int p,l, luas, keliling;\n",
    "        System.out.print(\"Panjang : \");\n",
    "            p = input.nextInt();\n",
    "        System.out.print(\"Lebar : \");\n",
    "            l = input.nextInt();\n",
    "    luas = p*l;\n",
    "    keliling = 2*(p+l);\n",
    "\n",
    "        System.out.println(\"Luas Persegi panjang \"+luas);\n",
    "        System.out.println(\"Keliling Persegi panjang \"+keliling);"
   ]
  },
  {
   "cell_type": "markdown",
   "metadata": {},
   "source": [
    "SOAL 4B.\n",
    "\n",
    "pseudocode ini untuk merancang program yang mengubah pound ke kilo (1 kilo = 2,2 lb).\n",
    "\n",
    "BEGIN \n",
    "    SET for pounds \n",
    "    ENTER value in pounds \n",
    "    SET value to old value ÷ 2.2 \n",
    "    DISPLAY value in kilos \n",
    "   END\n",
    "\n",
    "Implementasikan program untuk pseudocode diatas, perhatikan untuk mendeklarasikan variabel apa pun yang diperlukan."
   ]
  },
  {
   "cell_type": "raw",
   "metadata": {},
   "source": [
    "BEGIN\n",
    "    SET for pounds\n",
    "    ENTER value in pounds\n",
    "    SET value to old value / 2.2\n",
    "    DISPLAY value in kilos\n",
    "END"
   ]
  },
  {
   "cell_type": "raw",
   "metadata": {},
   "source": [
    "Jawab :"
   ]
  },
  {
   "cell_type": "code",
   "execution_count": 35,
   "metadata": {},
   "outputs": [
    {
     "name": "stdout",
     "output_type": "stream",
     "text": [
      "Konversi berat pounds ke kg\n",
      "Angka yang akan di Konversikan10\n",
      "10 pounds = 4.545454545454545kg\n"
     ]
    },
    {
     "data": {
      "text/plain": [
       "null"
      ]
     },
     "execution_count": 35,
     "metadata": {},
     "output_type": "execute_result"
    }
   ],
   "source": [
    "import java.util.Scanner;\n",
    "    Scanner input = new Scanner (System.in);\n",
    "        int pounds;\n",
    "        System.out.print(\"Konversi berat pounds ke kg\\n\");\n",
    "        System.out.print(\"Angka yang akan di Konversikan\");\n",
    "            pounds = input.nextInt();\n",
    "                double result = 1;\n",
    "                    result = pounds/2.2;\n",
    "\n",
    "        System.out.println(pounds+ \" pounds = \"+result+\"kg\");"
   ]
  },
  {
   "cell_type": "markdown",
   "metadata": {},
   "source": [
    "SOAL 5B.\n",
    "\n",
    "Individual Body Mass Index (BMI) adalah ukuran berat ideal seseorang sehubungan dengan tinggi badan mereka. dihitung dengan cara berikut:\n",
    "\n",
    "    membagi berat badan seseorang (dalam kg) dengan kuadrat tinggi badan mereka (dalam meter)\n",
    "\n",
    "Rancang pseudocode dan implementasikan program untuk memungkinkan inisialisasi variabel berat dan tinggi badan untuk kemudian mencetak BMI mereka."
   ]
  },
  {
   "cell_type": "raw",
   "metadata": {},
   "source": [
    "pseudocode"
   ]
  },
  {
   "cell_type": "raw",
   "metadata": {},
   "source": [
    "BEGIN\n",
    "    INPUT BERAT\n",
    "    INPUT TINGGI\n",
    "    HITUNG BMI\n",
    "    CETAK BMI\n",
    "END"
   ]
  },
  {
   "cell_type": "code",
   "execution_count": 40,
   "metadata": {},
   "outputs": [
    {
     "name": "stdout",
     "output_type": "stream",
     "text": [
      "Berat (kg)100\n",
      "Tinggi (m)2\n",
      "Body Max Index = 25.0 kg/m2\n"
     ]
    },
    {
     "data": {
      "text/plain": [
       "null"
      ]
     },
     "execution_count": 40,
     "metadata": {},
     "output_type": "execute_result"
    }
   ],
   "source": [
    "import java.util.Scanner;\n",
    "    Scanner input = new Scanner (System.in);\n",
    "        double tinggi, berat, BMI;\n",
    "        System.out.print(\"Berat (kg)\");\n",
    "            berat = input.nextDouble();\n",
    "        System.out.print(\"Tinggi (m)\");\n",
    "            tinggi = input.nextDouble();\n",
    "        BMI = berat/(tinggi*tinggi);\n",
    "\n",
    "        System.out.println(\"Body Max Index = \"+BMI+ \" kg/m2\");"
   ]
  },
  {
   "cell_type": "markdown",
   "metadata": {},
   "source": [
    "SOAL 6B\n",
    "\n",
    "Rancanglah dan implementasikan program yang memungkinkan pengguna untuk memasukkan nilai untuk jari-jari lingkaran, lalu menampilkan area dan keliling lingkaran. Note : phi = 3,14 sebagai konstanta"
   ]
  },
  {
   "cell_type": "markdown",
   "metadata": {},
   "source": [
    "pseudocode"
   ]
  },
  {
   "cell_type": "raw",
   "metadata": {},
   "source": [
    "BEGIN\n",
    "    INPUT JARI-JARI\n",
    "    HITUNG LUAS\n",
    "    HITUNG KELILING\n",
    "    TAMPILKAN LUAS & KELILING\n",
    "END"
   ]
  },
  {
   "cell_type": "code",
   "execution_count": 45,
   "metadata": {},
   "outputs": [
    {
     "name": "stdout",
     "output_type": "stream",
     "text": [
      "Jari-jari : 20\n",
      "Luas Lingkaran = 628.0 dan keliling = 125.60000000000001\n"
     ]
    },
    {
     "data": {
      "text/plain": [
       "null"
      ]
     },
     "execution_count": 45,
     "metadata": {},
     "output_type": "execute_result"
    }
   ],
   "source": [
    "import java.util.Scanner;\n",
    "    Scanner input = new Scanner (System.in);\n",
    "        double phi = 3.14;\n",
    "        double r, luas, keliling;\n",
    "            System.out.print(\"Jari-jari : \");\n",
    "                r = input.nextInt();\n",
    "            luas = 0.5*phi*r*r;\n",
    "            keliling = 2*phi*r;\n",
    "\n",
    "        System.out.println(\"Luas Lingkaran = \"+luas+\" dan keliling = \"+keliling);"
   ]
  },
  {
   "cell_type": "code",
   "execution_count": null,
   "metadata": {},
   "outputs": [],
   "source": []
  }
 ],
 "metadata": {
  "kernelspec": {
   "display_name": "Java",
   "language": "java",
   "name": "java"
  },
  "language_info": {
   "codemirror_mode": "text/x-java",
   "file_extension": ".java",
   "mimetype": "",
   "name": "Java",
   "nbconverter_exporter": "",
   "version": "1.8.0_121"
  },
  "toc": {
   "base_numbering": 1,
   "nav_menu": {},
   "number_sections": false,
   "sideBar": false,
   "skip_h1_title": false,
   "title_cell": "Table of Contents",
   "title_sidebar": "Contents",
   "toc_cell": false,
   "toc_position": {},
   "toc_section_display": false,
   "toc_window_display": false
  }
 },
 "nbformat": 4,
 "nbformat_minor": 2
}
