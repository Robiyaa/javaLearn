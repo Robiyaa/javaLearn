{
 "cells": [
  {
   "cell_type": "code",
   "execution_count": 6,
   "metadata": {},
   "outputs": [
    {
     "data": {
      "text/plain": [
       "com.twosigma.beaker.javash.bkrae2aef05.tabung"
      ]
     },
     "execution_count": 6,
     "metadata": {},
     "output_type": "execute_result"
    }
   ],
   "source": [
    "//Class Tabung\n",
    "    class tabung{\n",
    "        float phi=3.14f;\n",
    "        float r;\n",
    "        float t;\n",
    "        float hasil;\n",
    "        \n",
    "        public void hitungVolume(){\n",
    "                hasil=phi*r*r*t;\n",
    "        }\n",
    "        \n",
    "        float fungsiHitung(){\n",
    "            if(r%7==0){\n",
    "                phi=22/7f;\n",
    "            }else{\n",
    "                phi=3.14f;\n",
    "            }\n",
    "            hitungVolume();\n",
    "            return hasil;\n",
    "        }\n",
    "    }"
   ]
  },
  {
   "cell_type": "code",
   "execution_count": 7,
   "metadata": {},
   "outputs": [
    {
     "name": "stdout",
     "output_type": "stream",
     "text": [
      "Volume Tabung : 1570.0\n"
     ]
    },
    {
     "data": {
      "text/plain": [
       "null"
      ]
     },
     "execution_count": 7,
     "metadata": {},
     "output_type": "execute_result"
    }
   ],
   "source": [
    "//Implementasi\n",
    "    tabung objTabung=new tabung();\n",
    "\n",
    "    objTabung.r=10;\n",
    "    objTabung.t=5;\n",
    "\n",
    "    System.out.println(\"Volume Tabung : \" +objTabung.fungsiHitung());"
   ]
  },
  {
   "cell_type": "markdown",
   "metadata": {},
   "source": [
    "Penjelasan tentang kode Program yang pertama\n",
    "\n",
    "Kelas turunan (subclass) akan mewarisi (inherit) data field (properti atau atribut) dan metoda terakses (accessible method) yang dimiliki oleh superclass. Konsep turunan akan menjadikan superclass mempunyai sifat yang lebih umum (general), sedangkan kelas turunannya akan mempunyai sifat yang lebih spesifik. Kelas turunan dapat didefinisikan lebih cepat dengan memanfaatkan kelas yang ada. Bila definisi kelas turunan berasal dari superclass yang berada di paket berbeda, Mengimpor kelas tersebut terlebih dahulu dengan menggunakan kata kunci import. Bila superclass berada di paket yang sama dengan subclass yang didefinisikan,tidak perlu untuk mengimport superclass. Kelas sebaiknya dikelompokkan menurut jenis dan fungsinya dan diletakkan di nama paket yang menggambarkan kelas tersebut. Kata kunci extends digunakan untuk mendeklarasikan kelas turunan (subclass) dari kelas atasnya (superclass). Dengan kata kunci extends, kelas turunan akan mewarisi data field dan metoda yang dimiliki oleh kelas di atasnya.\n",
    "\n",
    "Program diatas adalah contoh program sederhana untuk menghitung volume dari sebuah bangun ruang yaitu Tabung, menggunakan paradigma berorientasi objek,dimana sebuah objek terlebih dahulu akan dibuat dan di dalam objek kubus tersebut terdapat variables dan methods yang berguna untuk melakukan perhitungan volume dan sebagainya. Kemudian pada main method, hanya dilakukan pemanggilan metode-metode.\n",
    "\n",
    "Langkah pembuatan program bermula dengan pembuatan class dilanjut dengan membuat atribut yang pertama dengan tipe float volume yang akan dicari, dilanjut membuat methode dengan menginputkan phi ,radius dan tinggi disertai penulisan rumus volume bangun tersebut."
   ]
  },
  {
   "cell_type": "markdown",
   "metadata": {},
   "source": [
    "Encapsulasi\n",
    "\n",
    "Getter dan Setter merupakan dua method yang berfungsi untuk mengambil dan mengisi nilai pada suatu objek. Dalam OOP ada istilah encapsulation, dimana data dibungkus dengan modifier private sehingga tidak bisa diakses dari luar class. Nah karena hal inilah dibutuhkan yang namanya Getter dan Setter. Metode ini juga biasa digunakan ketika membuat 2 buah Java Form, dimana salah satu form harus menampilkan nilai dari variable yang diset pada form lain, untuk bisa melakukan maka dibutuhkan sebuah Java Class baru yang berisi method Getter dan Setter.\n",
    "\n",
    "Berikut program Menggunakan Getter dan Setter Untuk Enkapsulasi pada Java"
   ]
  },
  {
   "cell_type": "code",
   "execution_count": 8,
   "metadata": {},
   "outputs": [
    {
     "data": {
      "text/plain": [
       "com.twosigma.beaker.javash.bkrae2aef05.tabung"
      ]
     },
     "execution_count": 8,
     "metadata": {},
     "output_type": "execute_result"
    }
   ],
   "source": [
    "//Class Tabung\n",
    "    public class tabung{\n",
    "        float phi=3.14f;\n",
    "        float r;\n",
    "        float t;\n",
    "        float hasil;\n",
    "        \n",
    "        // method setter\n",
    "        public void hitungVolume(){\n",
    "                hasil=phi*r*r*t;\n",
    "        }\n",
    "        \n",
    "        // method getter\n",
    "        public float fungsiHitung(){\n",
    "            if(r%7==0){\n",
    "                phi=22/7f;\n",
    "            }else{\n",
    "                phi=3.14f;\n",
    "            }\n",
    "            hitungVolume();\n",
    "            return hasil;\n",
    "        }\n",
    "    }"
   ]
  },
  {
   "cell_type": "code",
   "execution_count": 9,
   "metadata": {},
   "outputs": [
    {
     "name": "stdout",
     "output_type": "stream",
     "text": [
      "Volume Tabung : 1570.0\n"
     ]
    },
    {
     "data": {
      "text/plain": [
       "null"
      ]
     },
     "execution_count": 9,
     "metadata": {},
     "output_type": "execute_result"
    }
   ],
   "source": [
    "// Kode ditulis dalam method main\n",
    "    tabung objTabung=new tabung();\n",
    "\n",
    "    // menggunakan method setter\n",
    "    objTabung.r=10;\n",
    "    objTabung.t=5;\n",
    "\n",
    "    // menggunakan method getter\n",
    "    System.out.println(\"Volume Tabung : \" +objTabung.fungsiHitung());"
   ]
  },
  {
   "cell_type": "markdown",
   "metadata": {},
   "source": [
    "Penjelasan program enskapsulasi\n",
    "\n",
    "Di dalam Java, pengkapsulasian dapat dilakukan dengan pembentukan kelas-kelas menggunakan keyword class. Sedangkan penyembunyian informasi dapat dilakukan dengan pengendalian terhadap pengaksesan pembentuk kelas dengan keyword-keyword untuk kendali pengaksesan default, private, protected, dan public. Penyembunyian informasi dilakukan dengan implementasi penerapan kendari menggunakan keyword private dan protected pada elemen data.\n",
    "\n"
   ]
  },
  {
   "cell_type": "code",
   "execution_count": null,
   "metadata": {},
   "outputs": [],
   "source": []
  }
 ],
 "metadata": {
  "kernelspec": {
   "display_name": "Java",
   "language": "java",
   "name": "java"
  },
  "language_info": {
   "codemirror_mode": "text/x-java",
   "file_extension": ".java",
   "mimetype": "",
   "name": "Java",
   "nbconverter_exporter": "",
   "version": "1.8.0_121"
  },
  "toc": {
   "base_numbering": 1,
   "nav_menu": {},
   "number_sections": false,
   "sideBar": false,
   "skip_h1_title": false,
   "title_cell": "Table of Contents",
   "title_sidebar": "Contents",
   "toc_cell": false,
   "toc_position": {},
   "toc_section_display": false,
   "toc_window_display": false
  }
 },
 "nbformat": 4,
 "nbformat_minor": 2
}
