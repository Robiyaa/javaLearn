{
 "cells": [
  {
   "cell_type": "code",
   "execution_count": 28,
   "metadata": {},
   "outputs": [
    {
     "data": {
      "text/plain": [
       "com.twosigma.beaker.javash.bkr63abbccf.tabung"
      ]
     },
     "execution_count": 28,
     "metadata": {},
     "output_type": "execute_result"
    }
   ],
   "source": [
    "//Class Tabung\n",
    "    class tabung{\n",
    "        float phi=3.14f;\n",
    "        float r;\n",
    "        float t;\n",
    "        float hasil;\n",
    "        \n",
    "        void hitungVolume(){\n",
    "            hasil=phi*r*r*t;\n",
    "        }\n",
    "        float fungsiHitung(){\n",
    "            if(r%7==0){\n",
    "                phi=22/7f;\n",
    "            }else{\n",
    "                phi=3.14f;\n",
    "            }\n",
    "            hitungVolume();\n",
    "            return hasil;\n",
    "        }\n",
    "    }"
   ]
  },
  {
   "cell_type": "code",
   "execution_count": 30,
   "metadata": {},
   "outputs": [
    {
     "name": "stdout",
     "output_type": "stream",
     "text": [
      "VolumeTabung : 8792.0\n"
     ]
    },
    {
     "data": {
      "text/plain": [
       "null"
      ]
     },
     "execution_count": 30,
     "metadata": {},
     "output_type": "execute_result"
    }
   ],
   "source": [
    "//Implementasi\n",
    "    tabung objTabung=new tabung();\n",
    "    objTabung.r=10;\n",
    "    objTabung.t=28;\n",
    "    System.out.println(\"VolumeTabung : \" +objTabung.fungsiHitung());"
   ]
  }
 ],
 "metadata": {
  "kernelspec": {
   "display_name": "Java",
   "language": "java",
   "name": "java"
  },
  "language_info": {
   "codemirror_mode": "text/x-java",
   "file_extension": ".java",
   "mimetype": "",
   "name": "Java",
   "nbconverter_exporter": "",
   "version": "1.8.0_121"
  },
  "toc": {
   "base_numbering": 1,
   "nav_menu": {},
   "number_sections": false,
   "sideBar": false,
   "skip_h1_title": false,
   "title_cell": "Table of Contents",
   "title_sidebar": "Contents",
   "toc_cell": false,
   "toc_position": {},
   "toc_section_display": false,
   "toc_window_display": false
  }
 },
 "nbformat": 4,
 "nbformat_minor": 2
}
