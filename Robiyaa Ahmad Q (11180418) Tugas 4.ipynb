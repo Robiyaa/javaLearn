{
 "cells": [
  {
   "cell_type": "markdown",
   "metadata": {},
   "source": [
    "Eksekusilah program 5.1 dan program 5.2 dibawah ini, bagaimanakah hasilnya?"
   ]
  },
  {
   "cell_type": "code",
   "execution_count": 1,
   "metadata": {},
   "outputs": [
    {
     "data": {
      "text/plain": [
       "com.twosigma.beaker.javash.bkr431d921f.Calculator"
      ]
     },
     "execution_count": 1,
     "metadata": {},
     "output_type": "execute_result"
    }
   ],
   "source": [
    "//Program 5.1 pendefinisian class Calculator\n",
    "\n",
    "class Calculator{\n",
    "    //Kompunen attribut\n",
    "    int x;\n",
    "    int y;\n",
    "    int hasil;\n",
    "    \n",
    "   //Kompunen method/fungsi konstruktor\n",
    "\n",
    "   //Kompunen method/fungsi generall\n",
    "\n",
    "}"
   ]
  },
  {
   "cell_type": "code",
   "execution_count": 14,
   "metadata": {},
   "outputs": [
    {
     "name": "stdout",
     "output_type": "stream",
     "text": [
      "Hasil 30\n"
     ]
    },
    {
     "data": {
      "text/plain": [
       "null"
      ]
     },
     "execution_count": 14,
     "metadata": {},
     "output_type": "execute_result"
    }
   ],
   "source": [
    "//Program 5.2 implementasi class\n",
    "\n",
    "Calculator varobjCalculator = new Calculator();\n",
    "varobjCalculator.x = 20;\n",
    "varobjCalculator.y = 10;\n",
    "varobjCalculator.hasil = varobjCalculator.y + varobjCalculator.x;\n",
    "System.out.println(\"Hasil \"+ varobjCalculator.hasil);"
   ]
  },
  {
   "cell_type": "markdown",
   "metadata": {},
   "source": [
    "Eksekusilah program 5.3 dibawah ini."
   ]
  },
  {
   "cell_type": "code",
   "execution_count": 22,
   "metadata": {},
   "outputs": [
    {
     "data": {
      "text/plain": [
       "com.twosigma.beaker.javash.bkr431d921f.Calculator1"
      ]
     },
     "execution_count": 22,
     "metadata": {},
     "output_type": "execute_result"
    }
   ],
   "source": [
    "class Calculator1{\n",
    "    int x;\n",
    "    int y;\n",
    "    int hasil;\n",
    "}"
   ]
  },
  {
   "cell_type": "code",
   "execution_count": 23,
   "metadata": {},
   "outputs": [
    {
     "name": "stdout",
     "output_type": "stream",
     "text": [
      "Hasil objCalculatorKu 80\n",
      "Hasil varobjCalculatorMu 90\n"
     ]
    },
    {
     "data": {
      "text/plain": [
       "null"
      ]
     },
     "execution_count": 23,
     "metadata": {},
     "output_type": "execute_result"
    }
   ],
   "source": [
    "//Program 5.3 implementasi objek dari suatau class\n",
    "\n",
    "Calculator1 objCalculatorKu = new Calculator1();\n",
    "\n",
    "Calculator1 objCalculatorMu = new Calculator1();\n",
    "\n",
    "objCalculatorKu.x = 60;\n",
    "objCalculatorKu.y = 20;\n",
    "\n",
    "objCalculatorKu.hasil = objCalculatorKu.y + objCalculatorKu.x;\n",
    "System.out.println(\"Hasil objCalculatorKu \"+ objCalculatorKu.hasil);\n",
    "\n",
    "objCalculatorMu.x = 40;\n",
    "objCalculatorMu.y = 50;\n",
    "\n",
    "objCalculatorMu.hasil = objCalculatorMu.y + objCalculatorMu.x;\n",
    "System.out.println(\"Hasil varobjCalculatorMu \"+ objCalculatorMu.hasil);"
   ]
  },
  {
   "cell_type": "code",
   "execution_count": 24,
   "metadata": {},
   "outputs": [
    {
     "data": {
      "text/plain": [
       "com.twosigma.beaker.javash.bkr431d921f.Calculator2"
      ]
     },
     "execution_count": 24,
     "metadata": {},
     "output_type": "execute_result"
    }
   ],
   "source": [
    "//Program 5.4 Class Calculator2\n",
    "class Calculator2{\n",
    "\n",
    "    int x;\n",
    "    int y;\n",
    "    int hasil;\n",
    "    \n",
    "    void infoHasil(){\n",
    "      System.out.println(\"Isi atribut hasil : \"+hasil);  \n",
    "    }  \n",
    "\n",
    "}"
   ]
  },
  {
   "cell_type": "code",
   "execution_count": 25,
   "metadata": {},
   "outputs": [
    {
     "name": "stdout",
     "output_type": "stream",
     "text": [
      "Isi atribut hasil : 30\n"
     ]
    },
    {
     "data": {
      "text/plain": [
       "null"
      ]
     },
     "execution_count": 25,
     "metadata": {},
     "output_type": "execute_result"
    }
   ],
   "source": [
    "//Program 5.5 implementasi Class Calculator2\n",
    "Calculator2 varobjCalculator = new Calculator2();\n",
    "varobjCalculator.x = 20;\n",
    "varobjCalculator.y = 10;\n",
    "varobjCalculator.hasil = varobjCalculator.y + varobjCalculator.x;\n",
    "\n",
    "varobjCalculator.infoHasil();"
   ]
  },
  {
   "cell_type": "markdown",
   "metadata": {},
   "source": [
    "Implemantasikan dari kode diatas pada baris dibawah ini :"
   ]
  },
  {
   "cell_type": "code",
   "execution_count": 26,
   "metadata": {},
   "outputs": [
    {
     "data": {
      "text/plain": [
       "com.twosigma.beaker.javash.bkr431d921f.Calculator3"
      ]
     },
     "execution_count": 26,
     "metadata": {},
     "output_type": "execute_result"
    }
   ],
   "source": [
    "//Program 5.6 Class Calculator3\n",
    "class Calculator3{\n",
    "    int x;\n",
    "    int y;\n",
    "    int hasil;\n",
    "\n",
    "  void doTambah(){\n",
    "     System.out.println(\"Operasi Tambah\");  \n",
    "     hasil = x + y;\n",
    "  }    \n",
    "\n",
    "}"
   ]
  },
  {
   "cell_type": "code",
   "execution_count": 27,
   "metadata": {},
   "outputs": [
    {
     "name": "stdout",
     "output_type": "stream",
     "text": [
      "Operasi Tambah\n",
      "Hasil 30\n"
     ]
    },
    {
     "data": {
      "text/plain": [
       "null"
      ]
     },
     "execution_count": 27,
     "metadata": {},
     "output_type": "execute_result"
    }
   ],
   "source": [
    "//Program 5.7 Implementasi Class Calculator2\n",
    "Calculator3 varobjCalculator = new Calculator3();\n",
    "varobjCalculator.x = 20;\n",
    "varobjCalculator.y = 10;\n",
    "varobjCalculator.doTambah();\n",
    "System.out.println(\"Hasil \"+ varobjCalculator.hasil);"
   ]
  },
  {
   "cell_type": "code",
   "execution_count": 28,
   "metadata": {},
   "outputs": [
    {
     "data": {
      "text/plain": [
       "com.twosigma.beaker.javash.bkr431d921f.Calculator4"
      ]
     },
     "execution_count": 28,
     "metadata": {},
     "output_type": "execute_result"
    }
   ],
   "source": [
    "//Program 5.7 Class Calculator4\n",
    "class Calculator4{\n",
    "    int x;\n",
    "    int y;\n",
    "    int hasil;\n",
    "\n",
    "  void doTambah(){\n",
    "     System.out.println(\"Operasi Tambah\");  \n",
    "     hasil = x + y;\n",
    "  }   \n",
    "\n",
    "\n",
    "  void ProsedurHitung(char simbol){\n",
    "     if(simbol == '+'){\n",
    "\n",
    "        this.doTambah();\n",
    "\n",
    "     }      \n",
    "  }  \n",
    "\n",
    "}"
   ]
  },
  {
   "cell_type": "code",
   "execution_count": 29,
   "metadata": {},
   "outputs": [
    {
     "name": "stdout",
     "output_type": "stream",
     "text": [
      "Operasi Tambah\n",
      "Hasil 30\n"
     ]
    },
    {
     "data": {
      "text/plain": [
       "null"
      ]
     },
     "execution_count": 29,
     "metadata": {},
     "output_type": "execute_result"
    }
   ],
   "source": [
    "//Program 5.8 Implementasi Class Calculator4\n",
    "Calculator4 oCalculator = new Calculator4();\n",
    "oCalculator.x = 20;\n",
    "oCalculator.y = 10;\n",
    "oCalculator.ProsedurHitung('+');\n",
    "System.out.println(\"Hasil \"+oCalculator.hasil);\n"
   ]
  },
  {
   "cell_type": "code",
   "execution_count": 30,
   "metadata": {},
   "outputs": [
    {
     "data": {
      "text/plain": [
       "com.twosigma.beaker.javash.bkr431d921f.Calculator5"
      ]
     },
     "execution_count": 30,
     "metadata": {},
     "output_type": "execute_result"
    }
   ],
   "source": [
    "//Program 5.9 Class Calculator5\n",
    "\n",
    "class Calculator5{\n",
    "    int x;\n",
    "    int y;\n",
    "    int hasil;\n",
    "\n",
    "  void doTambah(){\n",
    "     System.out.println(\"Operasi Tambah\");  \n",
    "     hasil = x + y;\n",
    "  }   \n",
    "\n",
    "  void prosedurHitung(char simbol){\n",
    "     if(simbol == '+'){\n",
    "\n",
    "        this.doTambah();\n",
    "\n",
    "     }      \n",
    "  }  \n",
    "\n",
    "  int fungsiHitung(char simbol){\n",
    "     if(simbol == '+'){\n",
    "\n",
    "        this.doTambah();\n",
    "\n",
    "     }\n",
    "     return hasil; \n",
    "  }    \n",
    "}\n"
   ]
  },
  {
   "cell_type": "code",
   "execution_count": 31,
   "metadata": {},
   "outputs": [
    {
     "name": "stdout",
     "output_type": "stream",
     "text": [
      "Operasi Tambah\n",
      "Hasil 30\n"
     ]
    },
    {
     "data": {
      "text/plain": [
       "null"
      ]
     },
     "execution_count": 31,
     "metadata": {},
     "output_type": "execute_result"
    }
   ],
   "source": [
    "//Program 5.10 Implementasi Class Calculator5\n",
    "Calculator5 oCalculator = new Calculator5();\n",
    "oCalculator.x = 20;\n",
    "oCalculator.y = 10;\n",
    "System.out.println(\"Hasil \"+oCalculator.fungsiHitung('+'));"
   ]
  },
  {
   "cell_type": "code",
   "execution_count": 32,
   "metadata": {},
   "outputs": [
    {
     "data": {
      "text/plain": [
       "com.twosigma.beaker.javash.bkr431d921f.Calculator6"
      ]
     },
     "execution_count": 32,
     "metadata": {},
     "output_type": "execute_result"
    }
   ],
   "source": [
    "//Program 5.11 Class Calculator6 dengan konstrukor\n",
    "\n",
    "class Calculator6{\n",
    "    int x;\n",
    "    int y;\n",
    "    int hasil;\n",
    "    \n",
    "  Calculator6(int varX, int varY){\n",
    "    x = varX;  \n",
    "    y = varY;  \n",
    "  }\n",
    "    \n",
    "  void doTambah(){\n",
    "     System.out.println(\"Operasi Tambah\");  \n",
    "     hasil = x + y;\n",
    "  }   \n",
    "\n",
    "  void prosedurHitung(char simbol){\n",
    "     if(simbol == '+'){\n",
    "         \n",
    "        this.doTambah();\n",
    "         \n",
    "     }      \n",
    "  }  \n",
    "   \n",
    "  int fungsiHitung(char simbol){\n",
    "     if(simbol == '+'){\n",
    "         \n",
    "        this.doTambah();\n",
    "         \n",
    "     }\n",
    "     return hasil; \n",
    "  }    \n",
    "}"
   ]
  },
  {
   "cell_type": "code",
   "execution_count": 33,
   "metadata": {},
   "outputs": [
    {
     "name": "stdout",
     "output_type": "stream",
     "text": [
      "Operasi Tambah\n",
      "Hasil 30\n"
     ]
    },
    {
     "data": {
      "text/plain": [
       "null"
      ]
     },
     "execution_count": 33,
     "metadata": {},
     "output_type": "execute_result"
    }
   ],
   "source": [
    "//Program 5.12 Implementasi Class Calculator6 dengan konstrukor\n",
    "Calculator6 oCalculator = new Calculator6(10,20);\n",
    "System.out.println(\"Hasil \"+oCalculator.fungsiHitung('+'));"
   ]
  },
  {
   "cell_type": "markdown",
   "metadata": {},
   "source": [
    "Mid Test 1\n",
    "\n",
    "Modifikasilah class Calculator5 sehingga memiliki kemampuan/prilaku untuk melakukan operasi aritmetika untuk\n",
    "\n",
    "Pengurangan\n",
    "\n",
    "Perkalian\n",
    "\n",
    "Pembagian\n",
    "\n",
    "Dengan cara pemanggilan objek untuk masing - masing operasi tersebut adalah sebagai berikut:"
   ]
  },
  {
   "cell_type": "code",
   "execution_count": 1,
   "metadata": {},
   "outputs": [
    {
     "data": {
      "text/plain": [
       "com.twosigma.beaker.javash.bkr8c3980b2.Calculator5"
      ]
     },
     "execution_count": 1,
     "metadata": {},
     "output_type": "execute_result"
    }
   ],
   "source": [
    "class Calculator5{\n",
    "    int x;\n",
    "    int y;\n",
    "    int hasil;\n",
    "\n",
    "  void pengurangan(){\n",
    "     System.out.println(\"Operasi Pengurangan\");  \n",
    "     hasil = x - y;\n",
    "  }\n",
    "\n",
    "  void perkalian(){\n",
    "      System.out.println(\"Operasi Perkalian\");\n",
    "      hasil = x * y;\n",
    "  }\n",
    "    \n",
    "  void pembagian(){\n",
    "    System.out.println(\"Operasi pembagian\");\n",
    "    hasil = x / y;\n",
    "}\n",
    "    \n",
    "\n",
    "  int fungsiHitung(char simbol){\n",
    "     if(simbol == '-'){\n",
    "\n",
    "        this.pengurangan();\n",
    "\n",
    "    }else if(simbol == '*'){\n",
    "         \n",
    "         this.perkalian();\n",
    "             \n",
    "     }else{\n",
    "         \n",
    "         this.pembagian();\n",
    "     }\n",
    "    \n",
    "     return hasil; \n",
    "  }    \n",
    "}"
   ]
  },
  {
   "cell_type": "code",
   "execution_count": 5,
   "metadata": {},
   "outputs": [
    {
     "name": "stdout",
     "output_type": "stream",
     "text": [
      "Operasi Pengurangan\n",
      "Hasil 5\n",
      "Operasi Perkalian\n",
      "Hasil 50\n",
      "Operasi pembagian\n",
      "Hasil 2\n"
     ]
    },
    {
     "data": {
      "text/plain": [
       "null"
      ]
     },
     "execution_count": 5,
     "metadata": {},
     "output_type": "execute_result"
    }
   ],
   "source": [
    "Calculator5 oCalculator = new Calculator5();\n",
    "oCalculator.x = 10;\n",
    "oCalculator.y = 5;\n",
    "System.out.println(\"Hasil \"+oCalculator.fungsiHitung('-'));\n",
    "System.out.println(\"Hasil \"+oCalculator.fungsiHitung('*'));\n",
    "System.out.println(\"Hasil \"+oCalculator.fungsiHitung('/'));"
   ]
  },
  {
   "cell_type": "code",
   "execution_count": null,
   "metadata": {},
   "outputs": [],
   "source": []
  }
 ],
 "metadata": {
  "kernelspec": {
   "display_name": "Java",
   "language": "java",
   "name": "java"
  },
  "language_info": {
   "codemirror_mode": "text/x-java",
   "file_extension": ".java",
   "mimetype": "",
   "name": "Java",
   "nbconverter_exporter": "",
   "version": "1.8.0_121"
  },
  "toc": {
   "base_numbering": 1,
   "nav_menu": {},
   "number_sections": false,
   "sideBar": false,
   "skip_h1_title": false,
   "title_cell": "Table of Contents",
   "title_sidebar": "Contents",
   "toc_cell": false,
   "toc_position": {},
   "toc_section_display": false,
   "toc_window_display": false
  }
 },
 "nbformat": 4,
 "nbformat_minor": 2
}
