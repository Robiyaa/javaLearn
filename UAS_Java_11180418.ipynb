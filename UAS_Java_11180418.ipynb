{
 "cells": [
  {
   "cell_type": "markdown",
   "metadata": {},
   "source": [
    "### SOAL UAS\n",
    "1. Jawablah soal - soal dibawah ini pada baris yang sudah disediakan.\n",
    "2. Jawaban diunggah pada folder github masing - masing mahasiswa dijadikan satu dengan tugas - tugas sesudah UTS \n",
    "3. Dikumpulkan paling lambat 7 Juli 2020 Jam 24.00\n"
   ]
  },
  {
   "cell_type": "markdown",
   "metadata": {},
   "source": [
    "Berikut ini adalah contoh pengkodean lambda : \n",
    "(Jika ada kekeliruan dalam syntax silahkan dibetulkan)"
   ]
  },
  {
   "cell_type": "code",
   "execution_count": 23,
   "metadata": {},
   "outputs": [
    {
     "data": {
      "text/plain": [
       "com.twosigma.beaker.javash.bkr756ad83d.ContohLambda"
      ]
     },
     "execution_count": 23,
     "metadata": {},
     "output_type": "execute_result"
    }
   ],
   "source": [
    "public class ContohLambda {\n",
    "\n",
    "   public static void main() {\n",
    "      ContohLambda obj = new ContohLambda();\n",
    "\n",
    "      //dengan type declaration tanpa kurung kurawal\n",
    "      operasiPerhitungan penjumlahan = (int a, int b) -> a + b;\n",
    "\n",
    "      //dengan return statement dan kurung kurawal\n",
    "      operasiPerhitungan pengurangan = (int a, int b) -> { return a - b; };\n",
    "\n",
    "      System.out.println(\"10 + 5 = \" + obj.operate(10, 5, penjumlahan));\n",
    "      System.out.println(\"10 - 5 = \" + obj.operate(10, 5, pengurangan));\n",
    "\n",
    "      //dengan parenthesis\n",
    "      msgService greetService1 = message -> System.out.println(\"Hello \" + message);\n",
    "\n",
    "      //tanpa parenthesis\n",
    "      msgService greetService2 = (message) -> System.out.println(\"msg \" + message);\n",
    "\n",
    "      greetService1.sayMessage(\"Helloo\");\n",
    "      greetService2.sayMessage(\"Anonim..\");\n",
    "   }\n",
    "\n",
    "   interface operasiPerhitungan {\n",
    "      int operation(int a, int b);\n",
    "   }\n",
    "\n",
    "   interface msgService {\n",
    "      void sayMessage(String message);\n",
    "   }\n",
    "\n",
    "   private int operate(int a, int b, operasiPerhitungan operasiPerhitungan) {\n",
    "      return operasiPerhitungan.operation(a, b);\n",
    "   }\n",
    "}"
   ]
  },
  {
   "cell_type": "code",
   "execution_count": 24,
   "metadata": {},
   "outputs": [
    {
     "name": "stdout",
     "output_type": "stream",
     "text": [
      "10 + 5 = 15\n",
      "10 - 5 = 5\n",
      "Hello Helloo\n",
      "msg Anonim..\n"
     ]
    },
    {
     "data": {
      "text/plain": [
       "null"
      ]
     },
     "execution_count": 24,
     "metadata": {},
     "output_type": "execute_result"
    }
   ],
   "source": [
    "//Implementasi\n",
    "ContohLambda TestLambda = new ContohLambda();\n",
    "    \n",
    "TestLambda.main();"
   ]
  },
  {
   "cell_type": "markdown",
   "metadata": {},
   "source": [
    "### [Soal 1]\n",
    "\n",
    "Jelaskan mengenai ekspresi lambda dalam pemrograman java? Apa saja yang menjadi karakteristik dari ekspresi tersebut?\n",
    "*(nilai 30)*"
   ]
  },
  {
   "cell_type": "markdown",
   "metadata": {},
   "source": [
    "jawab :\n",
    "\n",
    "Ekspresi lambda juga bisa disebut penutupan, yang adalah untuk mempromosikan fitur baru yang paling penting dari Java 8 rilis.\n",
    "\n",
    "Lambda diizinkan untuk berfungsi sebagai parameter metode (fungsi lulus sebagai parameter ke metode).\n",
    "\n",
    "Ekspresi Lambda dapat menggunakan kode menjadi lebih sederhana dan kompak.\n",
    "\n",
    "Berikut ini adalah karakteristik penting dari ekspresi lambda:\n",
    "\n",
    "1. Opsional deklarasi tipe: tidak perlu untuk menyatakan jenis parameter, compiler dapat disatukan nilai parameter identifikasi.\n",
    "2. Parameter opsional dalam kurung: parameter yang ditetapkan tanpa tanda kurung, tetapi sejumlah parameter perlu kurung didefinisikan.\n",
    "3. Kawat gigi opsional: jika tubuh berisi pernyataan bahwa Anda tidak perlu kawat gigi.\n",
    "4. Kata kunci pulang Opsional: Jika subjek hanya satu ekspresi yang mengembalikan nilai, compiler secara otomatis akan mengembalikan nilai, kawat gigi perlu menentukan ekspresi yang jelas yang mengembalikan nilai."
   ]
  },
  {
   "cell_type": "markdown",
   "metadata": {},
   "source": [
    "### [Soal 2]\n",
    "\n",
    "Implementasikan ekspresi lambda dari kasus UTS bangun datar anda *(nilai 70)*"
   ]
  },
  {
   "cell_type": "code",
   "execution_count": 25,
   "metadata": {},
   "outputs": [
    {
     "data": {
      "text/plain": [
       "com.twosigma.beaker.javash.bkr756ad83d.VolumeTabung"
      ]
     },
     "execution_count": 25,
     "metadata": {},
     "output_type": "execute_result"
    }
   ],
   "source": [
    "public class VolumeTabung {\n",
    "\n",
    "   public static void main() {\n",
    "      VolumeTabung obj = new VolumeTabung();\n",
    "       \n",
    "\n",
    "      //dengan type declaration tanpa kurung kurawal\n",
    "      operasiPerhitungan volume = (int phi, int r, int t) -> r * r * t * phi;\n",
    "\n",
    "\n",
    "      System.out.println(\"5 * 5 * 4 * 3.14 = \" + obj.operate(3, 5, 7, volume));\n",
    "\n",
    "      //dengan parenthesis\n",
    "      msgService greetService1 = message -> System.out.println(\"Bangun Ruang \" + message);\n",
    "\n",
    "      //tanpa parenthesis\n",
    "      msgService greetService2 = (message) -> System.out.println(\"Volume \" + message);\n",
    "\n",
    "      greetService1.sayMessage(\"Tabung\");\n",
    "      greetService2.sayMessage(\"Tabung\");\n",
    "   }\n",
    "\n",
    "   interface operasiPerhitungan {\n",
    "      int operation(int phi, int r, int t);\n",
    "   }\n",
    "\n",
    "   interface msgService {\n",
    "      void sayMessage(String message);\n",
    "   }\n",
    "\n",
    "   private int operate(int phi, int r, int t, operasiPerhitungan operasiPerhitungan) {\n",
    "      return operasiPerhitungan.operation(phi, r, t);\n",
    "   }\n",
    "}"
   ]
  },
  {
   "cell_type": "code",
   "execution_count": 26,
   "metadata": {},
   "outputs": [
    {
     "name": "stdout",
     "output_type": "stream",
     "text": [
      "5 * 5 * 4 * 3.14 = 525\n",
      "Bangun Ruang Tabung\n",
      "Volume Tabung\n"
     ]
    },
    {
     "data": {
      "text/plain": [
       "null"
      ]
     },
     "execution_count": 26,
     "metadata": {},
     "output_type": "execute_result"
    }
   ],
   "source": [
    "//Implementasi\n",
    "VolumeTabung TestLambda = new VolumeTabung();\n",
    "    \n",
    "TestLambda.main();"
   ]
  },
  {
   "cell_type": "markdown",
   "metadata": {},
   "source": [
    "Penjelasan Program \n",
    "\n",
    "Membuat variabelnya terlebih dahulu kemudian memasukkan rumus dari volume limas tersebut, setelah semua telah selesai di definisikan tinggal dijalankan. Di dalam Java, pengkapsulasian dapat dilakukan dengan pembentukan kelas-kelas menggunakan keyword class. Sedangkan penyembunyian informasi dapat dilakukan dengan pengendalian terhadap pengaksesan pembentuk kelas dengan keyword-keyword untuk kendali pengaksesan default, private, protected, dan public. Penyembunyian informasi dilakukan dengan implementasi penerapan kendari menggunakan keyword private dan protected pada elemen data."
   ]
  },
  {
   "cell_type": "code",
   "execution_count": null,
   "metadata": {},
   "outputs": [],
   "source": []
  }
 ],
 "metadata": {
  "kernelspec": {
   "display_name": "Java",
   "language": "java",
   "name": "java"
  },
  "language_info": {
   "codemirror_mode": "text/x-java",
   "file_extension": ".java",
   "mimetype": "",
   "name": "Java",
   "nbconverter_exporter": "",
   "version": "1.8.0_121"
  },
  "toc": {
   "base_numbering": 1,
   "nav_menu": {},
   "number_sections": false,
   "sideBar": false,
   "skip_h1_title": false,
   "title_cell": "Table of Contents",
   "title_sidebar": "Contents",
   "toc_cell": false,
   "toc_position": {},
   "toc_section_display": false,
   "toc_window_display": false
  }
 },
 "nbformat": 4,
 "nbformat_minor": 4
}
