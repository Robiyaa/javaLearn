{
 "cells": [
  {
   "cell_type": "markdown",
   "metadata": {},
   "source": [
    "3.A Self-test Questions"
   ]
  },
  {
   "cell_type": "markdown",
   "metadata": {},
   "source": [
    "Soal 3.A1.\n",
    "Jelaskan perbedaannya sequence and selection dalam control process?\n",
    "\n",
    "Jawab :"
   ]
  },
  {
   "cell_type": "raw",
   "metadata": {},
   "source": [
    "Sequence Process: instruksi dikerjakan secara sekuensial, berurutan.\n",
    "Selection Process: instruksi dikerjakan jika memenuhi kriteria tertentu."
   ]
  },
  {
   "cell_type": "markdown",
   "metadata": {},
   "source": [
    "Soal 3.A2.\n",
    "Program Java berikut untuk menampilkan biaya tiket bioskop.\n",
    "\n",
    "    price = 10.00; \n",
    "    int age; \n",
    "    age = ?;\n",
    "    System.out.print(\"Umur penonton : \"+age); \n",
    "    // code to reduce ticket price for children goes here \n",
    "    System.out.println(\"Ticket price = \" + price);"
   ]
  },
  {
   "cell_type": "markdown",
   "metadata": {},
   "source": [
    "[a] type data apakan yang tepat intuk variable price? dan jika variable age diisikan nilai 11 bagaimanakah keluaran program tersebut?"
   ]
  },
  {
   "cell_type": "raw",
   "metadata": {},
   "source": [
    "Jawab [a] :"
   ]
  },
  {
   "cell_type": "code",
   "execution_count": 7,
   "metadata": {},
   "outputs": [
    {
     "name": "stdout",
     "output_type": "stream",
     "text": [
      "Umur penonton : 14 Ticket price = 10.0\n"
     ]
    },
    {
     "data": {
      "text/plain": [
       "null"
      ]
     },
     "execution_count": 7,
     "metadata": {},
     "output_type": "execute_result"
    }
   ],
   "source": [
    "double price = 10.00; \n",
    "    int age; \n",
    "    age = 14;\n",
    "System.out.print(\"Umur penonton : \"+age); \n",
    "System.out.println(\" Ticket price = \" + price);"
   ]
  },
  {
   "cell_type": "markdown",
   "metadata": {},
   "source": [
    "[b] Ubahlah program tersebut sehingga anak-anak di bawah usia 14 mendapatkan tiket setengah harga."
   ]
  },
  {
   "cell_type": "raw",
   "metadata": {},
   "source": [
    "Jawab [b] :"
   ]
  },
  {
   "cell_type": "code",
   "execution_count": 38,
   "metadata": {},
   "outputs": [
    {
     "name": "stdout",
     "output_type": "stream",
     "text": [
      " Ticket price = 5.0\n"
     ]
    },
    {
     "data": {
      "text/plain": [
       "null"
      ]
     },
     "execution_count": 38,
     "metadata": {},
     "output_type": "execute_result"
    }
   ],
   "source": [
    "double price = 10.00;\n",
    "double discountPrice;\n",
    "    int age; \n",
    "    age = 14;\n",
    "    discountPrice= price/2;\n",
    "if(age > 14){\n",
    "    System.out.print(\" Ticket price = \"+ price);\n",
    "}\n",
    "else{\n",
    "System.out.println(\" Ticket price = \" + discountPrice);}"
   ]
  },
  {
   "cell_type": "code",
   "execution_count": null,
   "metadata": {},
   "outputs": [],
   "source": [
    "double price = 10.00; \n",
    "    int age; \n",
    "    age = 10;\n",
    "    if ()\n",
    "System.out.print(\"Umur penonton : \"+age);  \n",
    "System.out.println(\"Ticket price = \" + price);"
   ]
  },
  {
   "cell_type": "markdown",
   "metadata": {},
   "source": [
    "Soal 3.A3.\n",
    "Berdasarkan program java berikut ini :\n",
    "\n",
    "    int x; \n",
    "    x = ?; \n",
    "     if (x > 10) { \n",
    "       System.out.println(\"Green\"); \n",
    "     }else{ \n",
    "       System.out.println(\"Blue\"); \n",
    "      } \n",
    "\n",
    "     System.out.println(\"Red\");\n",
    "\n",
    "Jawablah pertanyaan berikut bagaimana output program tersebut"
   ]
  },
  {
   "cell_type": "markdown",
   "metadata": {},
   "source": [
    "[a] jika variable x diisikan 10?"
   ]
  },
  {
   "cell_type": "code",
   "execution_count": 10,
   "metadata": {},
   "outputs": [
    {
     "name": "stdout",
     "output_type": "stream",
     "text": [
      "Blue\n",
      "Red\n"
     ]
    },
    {
     "data": {
      "text/plain": [
       "null"
      ]
     },
     "execution_count": 10,
     "metadata": {},
     "output_type": "execute_result"
    }
   ],
   "source": [
    "int x; \n",
    "x = 10; \n",
    " if (x > 10) { \n",
    "    System.out.println(\"Green\"); \n",
    " }else{ \n",
    "    System.out.println(\"Blue\"); \n",
    "  } \n",
    "\n",
    "    System.out.println(\"Red\");"
   ]
  },
  {
   "cell_type": "markdown",
   "metadata": {},
   "source": [
    "[a] jika variable x diisikan 20?"
   ]
  },
  {
   "cell_type": "code",
   "execution_count": 11,
   "metadata": {},
   "outputs": [
    {
     "name": "stdout",
     "output_type": "stream",
     "text": [
      "Blue\n",
      "Red\n"
     ]
    },
    {
     "data": {
      "text/plain": [
       "null"
      ]
     },
     "execution_count": 11,
     "metadata": {},
     "output_type": "execute_result"
    }
   ],
   "source": [
    "int x; \n",
    "x = 20; \n",
    " if (x > 20) { \n",
    "    System.out.println(\"Green\"); \n",
    " }else{ \n",
    "    System.out.println(\"Blue\"); \n",
    "  } \n",
    "\n",
    "    System.out.println(\"Red\");"
   ]
  },
  {
   "cell_type": "markdown",
   "metadata": {},
   "source": [
    "Soal 3.A4.\n",
    "Berdasarkan program java berikut ini:\n",
    "\n",
    "    int y; \n",
    "\n",
    "    y = ?; \n",
    "\n",
    "    switch (y) \n",
    "     { case 1: \n",
    "       case 2: \n",
    "       System.out.println(\"Green\"); break; \n",
    "       case 3: \n",
    "       case 4: \n",
    "       case 5: System.out.println(\"Blue\"); break; \n",
    "       default: System.out.println(\"numbers 1-5 only\"); \n",
    "      } \n",
    "     System.out.println(\"Red\");\n",
    "     \n",
    "Jawablah pertanyaan berikut, bagaimana output program tersebut"
   ]
  },
  {
   "cell_type": "markdown",
   "metadata": {},
   "source": [
    "[a] jika variable y diisikan 1?"
   ]
  },
  {
   "cell_type": "code",
   "execution_count": 12,
   "metadata": {},
   "outputs": [
    {
     "name": "stdout",
     "output_type": "stream",
     "text": [
      "Green\n",
      "Red\n"
     ]
    },
    {
     "data": {
      "text/plain": [
       "null"
      ]
     },
     "execution_count": 12,
     "metadata": {},
     "output_type": "execute_result"
    }
   ],
   "source": [
    "int y; \n",
    "\n",
    "y = 1; \n",
    "\n",
    "switch (y) \n",
    " { case 1: \n",
    "   case 2: \n",
    "System.out.println(\"Green\"); break; \n",
    "   case 3: \n",
    "   case 4: \n",
    "   case 5: System.out.println(\"Blue\"); break; \n",
    "   default: System.out.println(\"numbers 1-5 only\"); \n",
    "  } \n",
    "System.out.println(\"Red\");"
   ]
  },
  {
   "cell_type": "markdown",
   "metadata": {},
   "source": [
    "[b] jika variable y diisikan 2?"
   ]
  },
  {
   "cell_type": "code",
   "execution_count": 13,
   "metadata": {},
   "outputs": [
    {
     "name": "stdout",
     "output_type": "stream",
     "text": [
      "Green\n",
      "Red\n"
     ]
    },
    {
     "data": {
      "text/plain": [
       "null"
      ]
     },
     "execution_count": 13,
     "metadata": {},
     "output_type": "execute_result"
    }
   ],
   "source": [
    "int y; \n",
    "\n",
    "y = 2; \n",
    "\n",
    "switch (y) \n",
    " { case 1: \n",
    "   case 2: \n",
    "   System.out.println(\"Green\"); break; \n",
    "   case 3: \n",
    "   case 4: \n",
    "   case 5: System.out.println(\"Blue\"); break; \n",
    "   default: System.out.println(\"numbers 1-5 only\"); \n",
    "  } \n",
    " System.out.println(\"Red\");"
   ]
  },
  {
   "cell_type": "markdown",
   "metadata": {},
   "source": [
    "[c] jika variable y diisikan 3?"
   ]
  },
  {
   "cell_type": "code",
   "execution_count": 14,
   "metadata": {},
   "outputs": [
    {
     "name": "stdout",
     "output_type": "stream",
     "text": [
      "Blue\n",
      "Red\n"
     ]
    },
    {
     "data": {
      "text/plain": [
       "null"
      ]
     },
     "execution_count": 14,
     "metadata": {},
     "output_type": "execute_result"
    }
   ],
   "source": [
    "int y; \n",
    "\n",
    "y = 3; \n",
    "\n",
    "switch (y) \n",
    " { case 1: \n",
    "   case 2: \n",
    "   System.out.println(\"Green\"); break; \n",
    "   case 3: \n",
    "   case 4: \n",
    "   case 5: System.out.println(\"Blue\"); break; \n",
    "   default: System.out.println(\"numbers 1-5 only\"); \n",
    "  } \n",
    " System.out.println(\"Red\");"
   ]
  },
  {
   "cell_type": "markdown",
   "metadata": {},
   "source": [
    "[d] jika variable y diisikan 10?"
   ]
  },
  {
   "cell_type": "code",
   "execution_count": 15,
   "metadata": {},
   "outputs": [
    {
     "name": "stdout",
     "output_type": "stream",
     "text": [
      "numbers 1-5 only\n",
      "Red\n"
     ]
    },
    {
     "data": {
      "text/plain": [
       "null"
      ]
     },
     "execution_count": 15,
     "metadata": {},
     "output_type": "execute_result"
    }
   ],
   "source": [
    "int y; \n",
    "\n",
    "y = 10; \n",
    "\n",
    "switch (y) \n",
    " { case 1: \n",
    "   case 2: \n",
    "   System.out.println(\"Green\"); break; \n",
    "   case 3: \n",
    "   case 4: \n",
    "   case 5: System.out.println(\"Blue\"); break; \n",
    "   default: System.out.println(\"numbers 1-5 only\"); \n",
    "  } \n",
    " System.out.println(\"Red\");"
   ]
  },
  {
   "cell_type": "markdown",
   "metadata": {},
   "source": [
    "[e] Jika statements break dihapus dari seleksi switch dan variable y diisikan 3?"
   ]
  },
  {
   "cell_type": "code",
   "execution_count": 17,
   "metadata": {},
   "outputs": [
    {
     "name": "stdout",
     "output_type": "stream",
     "text": [
      "Blue\n",
      "numbers 1-5 only\n",
      "Red\n"
     ]
    },
    {
     "data": {
      "text/plain": [
       "null"
      ]
     },
     "execution_count": 17,
     "metadata": {},
     "output_type": "execute_result"
    }
   ],
   "source": [
    "int y; \n",
    "\n",
    "y = 3; \n",
    "\n",
    "switch (y) \n",
    " { case 1: \n",
    "   case 2: \n",
    "   System.out.println(\"Green\");\n",
    "   case 3: \n",
    "   case 4: \n",
    "   case 5: System.out.println(\"Blue\"); \n",
    "   default: System.out.println(\"numbers 1-5 only\"); \n",
    "  } \n",
    " System.out.println(\"Red\");"
   ]
  },
  {
   "cell_type": "markdown",
   "metadata": {},
   "source": [
    "[f] Jika statements break dihapus dari seleksi switch dan variable y diisikan 10?"
   ]
  },
  {
   "cell_type": "code",
   "execution_count": 18,
   "metadata": {},
   "outputs": [
    {
     "name": "stdout",
     "output_type": "stream",
     "text": [
      "numbers 1-5 only\n",
      "Red\n"
     ]
    },
    {
     "data": {
      "text/plain": [
       "null"
      ]
     },
     "execution_count": 18,
     "metadata": {},
     "output_type": "execute_result"
    }
   ],
   "source": [
    "int y; \n",
    "\n",
    "y = 10; \n",
    "\n",
    "switch (y) \n",
    " { case 1: \n",
    "   case 2: \n",
    "   System.out.println(\"Green\");\n",
    "   case 3: \n",
    "   case 4: \n",
    "   case 5: System.out.println(\"Blue\"); \n",
    "   default: System.out.println(\"numbers 1-5 only\"); \n",
    "  } \n",
    " System.out.println(\"Red\");"
   ]
  },
  {
   "cell_type": "markdown",
   "metadata": {},
   "source": [
    "Soal 3.A5.\n",
    "Berdasarkan program berikut:\n",
    "\n",
    "    //program ulang1\n",
    "     for(int i = 1; i <= 4; i++) \n",
    "     { \n",
    "       System.out.println(\"YES \"+i);  \n",
    "     } \n",
    "     System.out.println(\"OK\");\n",
    "\n",
    "\n",
    "[1] berapa kalikah pesan \"YES\" akan ditampilkan"
   ]
  },
  {
   "cell_type": "code",
   "execution_count": 19,
   "metadata": {},
   "outputs": [
    {
     "name": "stdout",
     "output_type": "stream",
     "text": [
      "YES 1\n",
      "YES 2\n",
      "YES 3\n",
      "YES 4\n",
      "OK\n"
     ]
    },
    {
     "data": {
      "text/plain": [
       "null"
      ]
     },
     "execution_count": 19,
     "metadata": {},
     "output_type": "execute_result"
    }
   ],
   "source": [
    "for(int i = 1; i <= 4; i++) \n",
    " { \n",
    "    System.out.println(\"YES \"+i);  \n",
    " } \n",
    "    System.out.println(\"OK\");"
   ]
  },
  {
   "cell_type": "markdown",
   "metadata": {},
   "source": [
    "[2] apakah output dari program tersebut?"
   ]
  },
  {
   "cell_type": "code",
   "execution_count": 20,
   "metadata": {},
   "outputs": [
    {
     "name": "stdout",
     "output_type": "stream",
     "text": [
      "YES 1\n",
      "YES 2\n",
      "YES 3\n",
      "YES 4\n",
      "OK\n"
     ]
    },
    {
     "data": {
      "text/plain": [
       "null"
      ]
     },
     "execution_count": 20,
     "metadata": {},
     "output_type": "execute_result"
    }
   ],
   "source": [
    "for(int i = 1; i <= 4; i++) \n",
    " { \n",
    "System.out.println(\"YES \"+i);  \n",
    " } \n",
    "System.out.println(\"OK\");"
   ]
  },
  {
   "cell_type": "markdown",
   "metadata": {},
   "source": [
    "Berdasarkan program berikut:\n",
    "\n",
    "    //program ulang2\n",
    "     for(int j = 12; j < 3; j--) \n",
    "     { \n",
    "       System.out.println(\"YES  \"+j);  \n",
    "     } \n",
    "    System.out.println(\"OK\");\n",
    "\n",
    "\n",
    "[3] berapa kalikah pesan \"YES\" akan ditampilkan"
   ]
  },
  {
   "cell_type": "code",
   "execution_count": 21,
   "metadata": {},
   "outputs": [
    {
     "name": "stdout",
     "output_type": "stream",
     "text": [
      "OK\n"
     ]
    },
    {
     "data": {
      "text/plain": [
       "null"
      ]
     },
     "execution_count": 21,
     "metadata": {},
     "output_type": "execute_result"
    }
   ],
   "source": [
    "//program ulang2\n",
    " for(int j = 12; j < 3; j--) \n",
    " { \n",
    "System.out.println(\"YES  \"+j);  \n",
    " } \n",
    "System.out.println(\"OK\");"
   ]
  },
  {
   "cell_type": "markdown",
   "metadata": {},
   "source": [
    "[4] apakah output dari program tersebut?"
   ]
  },
  {
   "cell_type": "code",
   "execution_count": 23,
   "metadata": {},
   "outputs": [
    {
     "name": "stdout",
     "output_type": "stream",
     "text": [
      "OK\n"
     ]
    },
    {
     "data": {
      "text/plain": [
       "null"
      ]
     },
     "execution_count": 23,
     "metadata": {},
     "output_type": "execute_result"
    }
   ],
   "source": [
    "//program ulang2\n",
    " for(int j = 12; j < 3; j--) \n",
    " { \n",
    "System.out.println(\"YES  \"+j);  \n",
    " } \n",
    "System.out.println(\"OK\");"
   ]
  },
  {
   "cell_type": "markdown",
   "metadata": {},
   "source": [
    "[5] Berikanlah penjelasan perbedaaan dari kedua program program ulang1 dan ulang2 tersebut diatas"
   ]
  },
  {
   "cell_type": "raw",
   "metadata": {},
   "source": [
    "-- dalam bahasa pemrograman disebut decrement (istilah lainnya mengurangi nilai variabel sebanyak 1)\n",
    "\n",
    "++ dalam bahasa pemrograman disebut increment (istilah lainnya menambahkan nilai variabel sebanyak 1)"
   ]
  },
  {
   "cell_type": "markdown",
   "metadata": {},
   "source": [
    "Soal 3.A6.\n",
    "Berdasarkan program forif1 dan forif2 berikut ini apakah yang menjadi output dari dua program berikut?\n",
    "\n",
    "    //program forif1\n",
    "        for(int l=1; l<=10; l++)  \n",
    "        { if (l > 5)   \n",
    "          { break;   } \n",
    "        System.out.println(l);  \n",
    "        }\n",
    "    //program forif2\n",
    "        for(int i=1; i<=10; i++)  \n",
    "        { if (i <= 5){ continue; } \n",
    "        System.out.println(i);}"
   ]
  },
  {
   "cell_type": "code",
   "execution_count": 24,
   "metadata": {},
   "outputs": [
    {
     "name": "stdout",
     "output_type": "stream",
     "text": [
      "1\n",
      "2\n",
      "3\n",
      "4\n",
      "5\n",
      "6\n",
      "7\n",
      "8\n",
      "9\n",
      "10\n"
     ]
    },
    {
     "data": {
      "text/plain": [
       "null"
      ]
     },
     "execution_count": 24,
     "metadata": {},
     "output_type": "execute_result"
    }
   ],
   "source": [
    "//program forif1\n",
    "    for(int l=1; l<=10; l++)  \n",
    "    { if (l > 5)   \n",
    "      { break;   } \n",
    "    System.out.println(l);  \n",
    "    }\n",
    "//program forif2\n",
    "    for(int i=1; i<=10; i++)  \n",
    "    { if (i <= 5){ continue; } \n",
    "    System.out.println(i);}"
   ]
  },
  {
   "cell_type": "markdown",
   "metadata": {},
   "source": [
    "3.B Self-test Questions"
   ]
  },
  {
   "cell_type": "markdown",
   "metadata": {},
   "source": [
    "Soal 3.B1.\n",
    "Rancanglah dan implementasikan program yang membandingkan dua angka dan kemudian menampilkan pesan “NUMBERS ARE EQUAL”, jika dua angka tersebut sama dan pesan “NUMBERS ARE NOT EQUAL”, jika kedua angka tersebut tidak sama. [jangan lupa untuk menggunakan double sama dengan (= =) untuk menguji kesetaraan (equality)"
   ]
  },
  {
   "cell_type": "code",
   "execution_count": 25,
   "metadata": {},
   "outputs": [
    {
     "name": "stdout",
     "output_type": "stream",
     "text": [
      "GOAL from Ronaldo\n",
      "100\n",
      "GOAL from Messi\n",
      "50\n",
      "NUMBERS ARE NOT EQUAL\n"
     ]
    },
    {
     "data": {
      "text/plain": [
       "null"
      ]
     },
     "execution_count": 25,
     "metadata": {},
     "output_type": "execute_result"
    }
   ],
   "source": [
    "import java.util.Scanner;\n",
    "    Scanner input = new Scanner(System.in);\n",
    "    int ronaldo, messi;\n",
    "System.out.println(\"GOAL from Ronaldo\");\n",
    "    ronaldo = input.nextInt();\n",
    "System.out.println(\"GOAL from Messi\");\n",
    "    messi = input.nextInt();\n",
    "\n",
    "if(ronaldo==messi){\n",
    "    System.out.println(\"NUMBERS ARE EQUAL\");\n",
    "}\n",
    "else{\n",
    "    System.out.println(\"NUMBERS ARE NOT EQUAL\");\n",
    "}"
   ]
  },
  {
   "cell_type": "markdown",
   "metadata": {},
   "source": [
    "Soal 3.B2.\n",
    "Rancanglah dan implementasikan program yang membandingkan dua angka dan kemudian menampilkan pesan “NUMBERS ARE EQUAL”, jika dua angka tersebut sama dan pesan “NUMBERS ARE NOT EQUAL”, jika kedua angka tersebut tidak sama. [jangan lupa untuk menggunakan double sama dengan (= =) untuk menguji kesetaraan (equality)"
   ]
  },
  {
   "cell_type": "raw",
   "metadata": {},
   "source": [
    "Soal & Jawaban sama dengan soal 3.B1"
   ]
  },
  {
   "cell_type": "markdown",
   "metadata": {},
   "source": [
    "Soal 3.B3.\n",
    "Jelaskan kapan waktu yang tepat untuk penggunaan\n",
    "\n",
    "    pernyataan if?\n",
    "    pernyataan if… else?\n",
    "    pernyataan switch?\n",
    "        \n",
    "Jawab :"
   ]
  },
  {
   "cell_type": "raw",
   "metadata": {},
   "source": [
    "IF : \n",
    "Bentuk umum :\n",
    "\n",
    "if ( kondisi )\n",
    "   Pernyataan;\n",
    "\n",
    "\n",
    "Bentuk ini menyatakan :\n",
    "-Jika kondisi yang diseleksi benar ( bernilai logika = 1), maka pernyataan yang mengikutinya akan di proses.\n",
    "-Sebaliknya, jika kondisi yang diseleksi bernilai salah ( bernilai logika = 0), maka pernyataan yang mengikutinya tidak akan diproses.\n",
    "\n",
    "IF... ELSE :\n",
    "Bentuk Umum :\n",
    "\n",
    "if ( kondisi )\n",
    "   Pernyataan-1;\n",
    "else\n",
    "   Pernyataan-2;\n",
    "\n",
    "\n",
    "Bentuk ini menyatakan :\n",
    "-Jika kondisi benar maka pernyataan-1 dijalankan.\n",
    "-Sedangkan jika kondisi bernilai salah, pernyataan-2 yang dijalankan.\n",
    "\n",
    "SWITCH :\n",
    "-Bentuk ini menyatakan dan memiliki ketentuan:\n",
    "-Switch akan membaca ekspresi kemudian akan mengeksekusi case dengan konstanta yang bernilai sama dengan ekspresi.\n",
    "-Jika tidak ada case dengan konstanta yang sama dengan ekspresi, maka default akan di eksekusi.\n",
    "-Ekspresi dapat berupa ungkapan bernilai integer atau bertipe karakter.\n",
    "-Setiap konstanta dapat berupa konstanta integer ataupun karakter dengan syarat harus bertype yang sama dengan ekspresi.\n",
    "-Setiap case harus diberi perintah break; untuk membatasi setiap case."
   ]
  },
  {
   "cell_type": "markdown",
   "metadata": {},
   "source": [
    "Soal 3.B4.\n",
    "Rubahlah program forif1 dan forif2 dalam 3.A Self-test Questions soal Soal 3.A6. menggunakan bentuk perulangan while dan do..while"
   ]
  },
  {
   "cell_type": "code",
   "execution_count": 34,
   "metadata": {},
   "outputs": [
    {
     "name": "stdout",
     "output_type": "stream",
     "text": [
      "1\n",
      "2\n",
      "3\n",
      "4\n",
      "5\n",
      "6\n",
      "7\n",
      "8\n",
      "9\n",
      "10\n"
     ]
    },
    {
     "data": {
      "text/plain": [
       "null"
      ]
     },
     "execution_count": 34,
     "metadata": {},
     "output_type": "execute_result"
    }
   ],
   "source": [
    "int l=1;\n",
    "while(l<=10){\n",
    "    System.out.println(l);\n",
    "    l++;\n",
    "}"
   ]
  },
  {
   "cell_type": "code",
   "execution_count": 39,
   "metadata": {},
   "outputs": [
    {
     "name": "stdout",
     "output_type": "stream",
     "text": [
      "1\n",
      "2\n",
      "3\n",
      "4\n",
      "5\n",
      "6\n",
      "7\n",
      "8\n",
      "9\n",
      "10\n"
     ]
    },
    {
     "data": {
      "text/plain": [
       "null"
      ]
     },
     "execution_count": 39,
     "metadata": {},
     "output_type": "execute_result"
    }
   ],
   "source": [
    "int i=1;\n",
    "do{\n",
    "    System.out.println(i);\n",
    "    i++;\n",
    "}\n",
    "while(i <= 10);"
   ]
  },
  {
   "cell_type": "code",
   "execution_count": null,
   "metadata": {},
   "outputs": [],
   "source": []
  }
 ],
 "metadata": {
  "kernelspec": {
   "display_name": "Java",
   "language": "java",
   "name": "java"
  },
  "language_info": {
   "codemirror_mode": "text/x-java",
   "file_extension": ".java",
   "mimetype": "",
   "name": "Java",
   "nbconverter_exporter": "",
   "version": "1.8.0_121"
  },
  "toc": {
   "base_numbering": 1,
   "nav_menu": {},
   "number_sections": false,
   "sideBar": false,
   "skip_h1_title": false,
   "title_cell": "Table of Contents",
   "title_sidebar": "Contents",
   "toc_cell": false,
   "toc_position": {},
   "toc_section_display": false,
   "toc_window_display": false
  }
 },
 "nbformat": 4,
 "nbformat_minor": 2
}
