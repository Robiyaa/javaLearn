{
 "cells": [
  {
   "cell_type": "markdown",
   "metadata": {},
   "source": [
    "Array\n",
    "\n",
    "Array adalah kumpulan variabel bertipe sama yang dapat diakses melalui indeks. Elemen array diakses menggunakan simbol kurung siku []. Setelah dideklarasikan, array harus diinisialisasi terlebih dulu.\n",
    "\n",
    "Contoh:\n",
    "\n",
    "int[] tinggi;\n",
    "   tinggi = new int[100];  //ada 100 elemen, mulai dari indeks 0 sd 99\n",
    "atau dapat digabungkan:\n",
    "\n",
    "int[] tinggi  = new int[100];\n",
    "Jalankanlah Contoh kode java dibawah ini (perhatikan penggunaan tinggi.length untuk mendapat ukuran array):"
   ]
  },
  {
   "cell_type": "code",
   "execution_count": 3,
   "metadata": {},
   "outputs": [
    {
     "name": "stdout",
     "output_type": "stream",
     "text": [
      "Tinggi indeks ke-0 adalah 3\n",
      "Tinggi indeks ke-1 adalah 6\n",
      "Tinggi indeks ke-2 adalah 3\n"
     ]
    },
    {
     "data": {
      "text/plain": [
       "null"
      ]
     },
     "execution_count": 3,
     "metadata": {},
     "output_type": "execute_result"
    }
   ],
   "source": [
    "//Program 4.1  \n",
    "   int[] tinggi; //deklarasi\n",
    "   tinggi = new int[3]; //inisiasi\n",
    "   tinggi[0] = 3;  \n",
    "   tinggi[1] = 6;\n",
    "   tinggi[2] = 3;\n",
    "   \n",
    "   for(int i=0;i<tinggi.length;i++) {\n",
    "       System.out.println(\"Tinggi indeks ke-\"+i+\" adalah \"+tinggi[i]);\n",
    "   }"
   ]
  },
  {
   "cell_type": "markdown",
   "metadata": {},
   "source": [
    "Tugas 4.1\n",
    "\n",
    "Ubahlah kode diatas pada bagian inisiasi variable tinggi menjadi sebagai berikut:\n",
    "\n",
    "    tinggi = new int[] {3,6,3};\n",
    "\n",
    "Bagaimanakah hasil dan kesimpulannya?"
   ]
  },
  {
   "cell_type": "code",
   "execution_count": 7,
   "metadata": {},
   "outputs": [
    {
     "name": "stdout",
     "output_type": "stream",
     "text": [
      "Tinggi indeks ke-0 adalah 3\n",
      "Tinggi indeks ke-1 adalah 6\n",
      "Tinggi indeks ke-2 adalah 3\n"
     ]
    },
    {
     "data": {
      "text/plain": [
       "null"
      ]
     },
     "execution_count": 7,
     "metadata": {},
     "output_type": "execute_result"
    }
   ],
   "source": [
    "//Program 4.1  \n",
    "   int[] tinggi; //deklarasi\n",
    "   tinggi = new int[]{3,6,3}; //inisiasi\n",
    "   tinggi[0] = 3;  \n",
    "   tinggi[1] = 6;\n",
    "   tinggi[2] = 3;\n",
    "   \n",
    "   for(int i=0;i<tinggi.length;i++) {\n",
    "       System.out.println(\"Tinggi indeks ke-\"+i+\" adalah \"+tinggi[i]);\n",
    "   }"
   ]
  },
  {
   "cell_type": "raw",
   "metadata": {},
   "source": [
    "Kesimpulannya:\n",
    "Hasil runningnya tetap sama seperti program sebelumnya."
   ]
  },
  {
   "cell_type": "markdown",
   "metadata": {},
   "source": [
    "Tugas 4.2\n",
    "\n",
    "Modifikasi program diatas untuk menampilkan informasi sebagai berikut:"
   ]
  },
  {
   "cell_type": "raw",
   "metadata": {},
   "source": [
    "[a] Menampilkan indeks yang memiliki nilai 3"
   ]
  },
  {
   "cell_type": "code",
   "execution_count": 6,
   "metadata": {},
   "outputs": [
    {
     "name": "stdout",
     "output_type": "stream",
     "text": [
      "Tinggi indeks ke-0 adalah 3\n"
     ]
    },
    {
     "data": {
      "text/plain": [
       "null"
      ]
     },
     "execution_count": 6,
     "metadata": {},
     "output_type": "execute_result"
    }
   ],
   "source": [
    "//Program 4.1  \n",
    "   int[] tinggi; //deklarasi\n",
    "   tinggi = new int[3]; //inisiasi\n",
    "   tinggi[0] = 3;  \n",
    "   tinggi[1] = 6;\n",
    "   tinggi[2] = 3;\n",
    "   \n",
    "   System.out.println(\"Tinggi indeks ke-\"+0+\" adalah \"+tinggi[0]);"
   ]
  },
  {
   "cell_type": "raw",
   "metadata": {},
   "source": [
    "[b] Menampilkan nilai pada indeks: 0,2"
   ]
  },
  {
   "cell_type": "code",
   "execution_count": 1,
   "metadata": {},
   "outputs": [
    {
     "name": "stdout",
     "output_type": "stream",
     "text": [
      "Tinggi indeks ke-0 adalah 3\n",
      "Tinggi indeks ke-1 adalah 6\n",
      "Tinggi indeks ke-2 adalah 3\n"
     ]
    },
    {
     "data": {
      "text/plain": [
       "null"
      ]
     },
     "execution_count": 1,
     "metadata": {},
     "output_type": "execute_result"
    }
   ],
   "source": [
    "//Program 4.1  \n",
    "   int[] tinggi; //deklarasi\n",
    "   tinggi = new int[] {3,6,3}; //inisiasi\n",
    "   tinggi[0] = 3;  \n",
    "   tinggi[1] = 6;\n",
    "   tinggi[2] = 3;\n",
    "   \n",
    "   for(int i=0;i<tinggi.length;i++) {\n",
    "       System.out.println(\"Tinggi indeks ke-\"+i+\" adalah \"+tinggi[i]);\n",
    "   }"
   ]
  },
  {
   "cell_type": "markdown",
   "metadata": {},
   "source": [
    "Array: For-Each\n",
    "Dimulai dari Java SE 5.0 keatas, programmer dapat melakukan loop untuk setiap elemen array dengan mudah. Bentuk dari for-each adalah sebagai berikut:\n",
    "\n",
    "    for (variable : array)  {\n",
    "       ….\n",
    "    }\n",
    "    \n",
    "Jalankan kode berikut untuk contoh array pada aplikasi sebelumnya dapat ditulis ulang sebagai berikut"
   ]
  },
  {
   "cell_type": "code",
   "execution_count": 5,
   "metadata": {},
   "outputs": [
    {
     "name": "stdout",
     "output_type": "stream",
     "text": [
      "Tinggi adalah:3\n",
      "Tinggi adalah:6\n",
      "Tinggi adalah:3\n"
     ]
    },
    {
     "data": {
      "text/plain": [
       "null"
      ]
     },
     "execution_count": 5,
     "metadata": {},
     "output_type": "execute_result"
    }
   ],
   "source": [
    "//Program 4.2   \n",
    "   int[] tinggi;\n",
    "   tinggi = new int[3];\n",
    "   tinggi[0] = 3;  \n",
    "   tinggi[1] = 6;\n",
    "   tinggi[2] = 3;\n",
    "   \n",
    "   for(int n:tinggi) {\n",
    "       System.out.println(\"Tinggi adalah:\"+n);\n",
    "   }"
   ]
  },
  {
   "cell_type": "markdown",
   "metadata": {},
   "source": [
    "Tugas 4.3\n",
    "\n",
    "Modifikasi Tugas 4.2, ganti loop-nya dengan for..each."
   ]
  },
  {
   "cell_type": "code",
   "execution_count": 3,
   "metadata": {},
   "outputs": [
    {
     "name": "stdout",
     "output_type": "stream",
     "text": [
      "Tinggi adalah : 3\n",
      "Tinggi adalah : 3\n",
      "Tinggi adalah : 3\n",
      "Tinggi adalah : 6\n",
      "Tinggi adalah : 6\n",
      "Tinggi adalah : 6\n",
      "Tinggi adalah : 3\n",
      "Tinggi adalah : 3\n",
      "Tinggi adalah : 3\n"
     ]
    },
    {
     "data": {
      "text/plain": [
       "null"
      ]
     },
     "execution_count": 3,
     "metadata": {},
     "output_type": "execute_result"
    }
   ],
   "source": [
    "//Program 4.2   \n",
    "   int[] tinggi;\n",
    "   tinggi = new int[3];\n",
    "   tinggi[0] = 3;  \n",
    "   tinggi[1] = 6;\n",
    "   tinggi[2] = 3;\n",
    "   \n",
    "   for (int n : tinggi) {\n",
    "      for(int m : tinggi){\n",
    "            System.out.println(\"Tinggi adalah : \"+n);\n",
    "      }\n",
    "   }"
   ]
  },
  {
   "cell_type": "markdown",
   "metadata": {},
   "source": [
    "Array: Sorting\n",
    "\n",
    "Sorting pada array dapat dilakukan dengan menggunakan method Arrays.sort.\n",
    "\n",
    "\n",
    "Tugas 4.4\n",
    "    \n",
    "potongan kode dibawah ini menggunakan fungsi Arrays.sort, jalankan sempurnakan jika ada error/kesalahan"
   ]
  },
  {
   "cell_type": "code",
   "execution_count": 22,
   "metadata": {},
   "outputs": [
    {
     "name": "stdout",
     "output_type": "stream",
     "text": [
      "Sebelum menggunakan array.sort\n",
      "5 6 3 \n",
      "Setelah menggunakan array.sort\n",
      "3 5 6 "
     ]
    },
    {
     "data": {
      "text/plain": [
       "null"
      ]
     },
     "execution_count": 22,
     "metadata": {},
     "output_type": "execute_result"
    }
   ],
   "source": [
    "//Program 4.3 \n",
    "import java.util.Arrays;\n",
    "\n",
    "    int[] tinggi = {5,6,3};\n",
    "\n",
    "        System.out.println(\"Sebelum menggunakan array.sort\");\n",
    "        for(int n:tinggi) {\n",
    "            System.out.print(n+\" \");\n",
    "        }\n",
    "        Arrays.sort(tinggi);\n",
    "\n",
    "        System.out.println(\"\\nSetelah menggunakan array.sort\");\n",
    "        for(int n:tinggi) {\n",
    "            System.out.print(n+\" \");\n",
    "        }"
   ]
  },
  {
   "cell_type": "markdown",
   "metadata": {},
   "source": [
    "Array: Dua Dimensi\n",
    "\n",
    "Deklarasi dan inisiasi array dua dimensi adalah sebagai berikut:\n",
    "\n",
    "    double[][] matriks = new double[1][1];\n",
    "\n",
    "Contoh:"
   ]
  },
  {
   "cell_type": "code",
   "execution_count": 19,
   "metadata": {},
   "outputs": [
    {
     "name": "stdout",
     "output_type": "stream",
     "text": [
      "Nilai [0,0] = 0.00 \n",
      "Nilai [0,1] = 1.00 \n",
      "Nilai [1,0] = 2.00 \n",
      "Nilai [1,1] = 3.00 \n",
      "Nilai = 0.0\n",
      "Nilai = 1.0\n",
      "Nilai = 2.0\n",
      "Nilai = 3.0\n"
     ]
    },
    {
     "data": {
      "text/plain": [
       "null"
      ]
     },
     "execution_count": 19,
     "metadata": {},
     "output_type": "execute_result"
    }
   ],
   "source": [
    "//Program 4.4\n",
    "   double[][] matriks = new double[2][2];  // 2 x 2\n",
    "   \n",
    "   matriks[0][0] = 0;\n",
    "   matriks[0][1] = 1;   \n",
    "   matriks[1][0] = 2;\n",
    "   matriks[1][1] = 3;\n",
    "   \n",
    "   //cara biasa\n",
    "   for(int i=0;i<matriks.length;i++) {\n",
    "       for (int j=0;j<matriks[i].length;j++) {\n",
    "         System.out.printf(\"Nilai [%d,%d] = %4.2f \\n\",i,j,matriks[i][j]);  \n",
    "       }      \n",
    "   }\n",
    "   \n",
    "   //cara foreach\n",
    "   for(double[] baris:matriks) {\n",
    "       for (double val:baris) {\n",
    "         System.out.println(\"Nilai = \"+val);  \n",
    "       }      \n",
    "   }"
   ]
  },
  {
   "cell_type": "raw",
   "metadata": {},
   "source": [
    "Cara inisiasi yang lebih ringkas:\n",
    "\n",
    "    double[][] matriks = new double[][]\n",
    "            {\n",
    "               {0,1},\n",
    "               {2,3}\n",
    "            };\n",
    "\n",
    "       // ...."
   ]
  },
  {
   "cell_type": "markdown",
   "metadata": {},
   "source": [
    "Tugas 4.5\n",
    "    \n",
    "Modifikasi Program 4.4, ganti inisiasi menjadi lebih ringkas seperti syntax diatas"
   ]
  },
  {
   "cell_type": "code",
   "execution_count": 24,
   "metadata": {},
   "outputs": [
    {
     "name": "stdout",
     "output_type": "stream",
     "text": [
      "Nilai = 0.0\n",
      "Nilai = 1.0\n",
      "Nilai = 2.0\n",
      "Nilai = 3.0\n"
     ]
    },
    {
     "data": {
      "text/plain": [
       "null"
      ]
     },
     "execution_count": 24,
     "metadata": {},
     "output_type": "execute_result"
    }
   ],
   "source": [
    "//Program 4.4\n",
    "   double[][] matriks = {{0,1},{2,3}};  // 2 x 2\n",
    "   \n",
    "   for(double[] baris:matriks) {\n",
    "       for (double val:baris) {\n",
    "         System.out.println(\"Nilai = \"+val);  \n",
    "       }      \n",
    "   }"
   ]
  },
  {
   "cell_type": "markdown",
   "metadata": {},
   "source": [
    "Tugas 4.6\n",
    "    \n",
    "Buatlah program penjumlahan dua matriks [4 x 4]. Program menampilkan matriks pertama, kedua dan hasil penjumlahan kedua matriks."
   ]
  },
  {
   "cell_type": "code",
   "execution_count": 5,
   "metadata": {},
   "outputs": [
    {
     "name": "stdout",
     "output_type": "stream",
     "text": [
      "Masukkan Nilai Matriks A\n",
      "=======================\n",
      "[1][1]:1\n",
      "[1][2]:2\n",
      "[1][3]:3\n",
      "[1][4]:4\n",
      "[2][1]:5\n",
      "[2][2]:6\n",
      "[2][3]:7\n",
      "[2][4]:8\n",
      "[3][1]:9\n",
      "[3][2]:10\n",
      "[3][3]:11\n",
      "[3][4]:12\n",
      "[4][1]:13\n",
      "[4][2]:14\n",
      "[4][3]:15\n",
      "[4][4]:16\n",
      "\n",
      "Masukkan Nilai Matriks B\n",
      "==========================\n",
      "[1][1]:1\n",
      "[1][2]:2\n",
      "[1][3]:3\n",
      "[1][4]:4\n",
      "[2][1]:5\n",
      "[2][2]:6\n",
      "[2][3]:7\n",
      "[2][4]:8\n",
      "[3][1]:9\n",
      "[3][2]:10\n",
      "[3][3]:11\n",
      "[3][4]:12\n",
      "[4][1]:13\n",
      "[4][2]:14\n",
      "[4][3]:15\n",
      "[4][4]:16\n",
      "\n",
      "Hasil penjumlahan Matriks A & B\n",
      "===========================\n",
      "2 4 6 8  \n",
      "10 12 14 16  \n",
      "18 20 22 24  \n",
      "26 28 30 32  \n"
     ]
    },
    {
     "data": {
      "text/plain": [
       "null"
      ]
     },
     "execution_count": 5,
     "metadata": {},
     "output_type": "execute_result"
    }
   ],
   "source": [
    "import java.util.Scanner;\n",
    "\n",
    "        Scanner input= new Scanner (System.in);\n",
    "        int A[][]=new int[4][4];\n",
    "        int B[][]=new int[4][4];\n",
    "        int C[][]=new int[4][4];\n",
    "         \n",
    "        System.out.println(\"Masukkan Nilai Matriks A\");\n",
    "        System.out.println(\"=======================\");\n",
    "        for(int i=0;i<4;i++)\n",
    "        {\n",
    "            for(int j=0;j<4;j++)\n",
    "            {\n",
    "                System.out.print(\"[\" +(i+1)+ \"][\" +(j+1)+ \"]:\");\n",
    "                A[i][j]=input.nextInt();\n",
    "            }\n",
    "        }\n",
    "      \n",
    "        System.out.println(\"\\nMasukkan Nilai Matriks B\");\n",
    "        System.out.println(\"==========================\");\n",
    "        for(int i=0;i<4;i++)\n",
    "        {\n",
    "            for(int j=0;j<4;j++)\n",
    "            {\n",
    "                System.out.print(\"[\" +(i+1)+ \"][\" +(j+1)+ \"]:\");\n",
    "                B[i][j]=input.nextInt();\n",
    "            }\n",
    "        }\n",
    "      \n",
    "        /* Melakukan penjumlahan matriks*/\n",
    "        for(int i=0;i<4;i++)\n",
    "        {\n",
    "            for(int j=0;j<4;j++)\n",
    "            {\n",
    "                C[i][j]=A[i][j]+B[i][j];\n",
    "            }\n",
    "        }\n",
    "\n",
    "        System.out.println(\"\\nHasil penjumlahan Matriks A & B\");\n",
    "        System.out.println(\"===========================\");\n",
    "        for(int i=0;i<4;i++)\n",
    "        {\n",
    "            for(int j=0;j<4;j++)\n",
    "            {\n",
    "                System.out.print(+(C[i][j])+\" \");\n",
    "            }\n",
    "            System.out.println(\" \");\n",
    "        }"
   ]
  }
 ],
 "metadata": {
  "kernelspec": {
   "display_name": "Java",
   "language": "java",
   "name": "java"
  },
  "language_info": {
   "codemirror_mode": "text/x-java",
   "file_extension": ".java",
   "mimetype": "",
   "name": "Java",
   "nbconverter_exporter": "",
   "version": "1.8.0_121"
  },
  "toc": {
   "base_numbering": 1,
   "nav_menu": {},
   "number_sections": false,
   "sideBar": false,
   "skip_h1_title": false,
   "title_cell": "Table of Contents",
   "title_sidebar": "Contents",
   "toc_cell": false,
   "toc_position": {},
   "toc_section_display": false,
   "toc_window_display": false
  }
 },
 "nbformat": 4,
 "nbformat_minor": 2
}
